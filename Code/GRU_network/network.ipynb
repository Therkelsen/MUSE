{
 "cells": [
  {
   "cell_type": "code",
   "execution_count": null,
   "metadata": {},
   "outputs": [],
   "source": [
    "# import numpy as np\n",
    "# import tensorflow as tf\n",
    "# from tensorflow.keras.models import Sequential\n",
    "# from tensorflow.keras.layers import GRU, Dense\n",
    "# from sklearn.model_selection import train_test_split\n",
    "# from sklearn.preprocessing import MinMaxScaler\n",
    "\n",
    "# # Assuming that you have your joint angles and EIM data in X and the corresponding labels (joint angle and weight) in y.\n",
    "\n",
    "# # Example data loading (replace this with your actual data loading code)\n",
    "# # X and y should be NumPy arrays\n",
    "# # X should have shape (num_samples, num_timesteps, num_features)\n",
    "# # y should have shape (num_samples, num_output_features)\n",
    "\n",
    "# # Generate example data (replace this with your actual data loading code)\n",
    "# np.random.seed(42)\n",
    "# num_samples = 1000\n",
    "# num_timesteps = 10\n",
    "# num_features = 2  # Replace with the actual number of features for joint angles and EIM data\n",
    "# num_output_features = 2  # Replace with the actual number of output features (joint angle and weight)\n",
    "\n",
    "# X = np.random.rand(num_samples, num_timesteps, num_features)\n",
    "# y = np.random.rand(num_samples, num_output_features)\n",
    "\n",
    "# # Split the data into training and testing sets\n",
    "# X_train, X_test, y_train, y_test = train_test_split(X, y, test_size=0.2, random_state=42)\n",
    "\n",
    "# # Normalize the data using Min-Max scaling\n",
    "# scaler_x = MinMaxScaler(feature_range=(0, 1))\n",
    "# X_train = scaler_x.fit_transform(X_train.reshape(-1, num_features)).reshape(X_train.shape)\n",
    "# X_test = scaler_x.transform(X_test.reshape(-1, num_features)).reshape(X_test.shape)\n",
    "\n",
    "# scaler_y = MinMaxScaler(feature_range=(0, 1))\n",
    "# y_train = scaler_y.fit_transform(y_train)\n",
    "# y_test = scaler_y.transform(y_test)\n",
    "\n",
    "# # Build the GRU model\n",
    "# model = Sequential()\n",
    "# model.add(GRU(50, activation='relu', input_shape=(num_timesteps, num_features)))\n",
    "# model.add(Dense(num_output_features, activation='linear'))\n",
    "\n",
    "# # Compile the model\n",
    "# model.compile(optimizer='adam', loss='mean_squared_error')\n",
    "\n",
    "# # Train the model\n",
    "# model.fit(X_train, y_train, epochs=10, batch_size=32, validation_data=(X_test, y_test))\n",
    "\n",
    "# # Evaluate the model\n",
    "# loss = model.evaluate(X_test, y_test)\n",
    "# print(f'Test Loss: {loss}')\n",
    "\n",
    "# # Make predictions on new data\n",
    "# # Replace `new_data` with your actual new data\n",
    "# new_data = np.random.rand(1, num_timesteps, num_features)\n",
    "# scaled_new_data = scaler_x.transform(new_data.reshape(-1, num_features)).reshape(new_data.shape)\n",
    "# prediction = model.predict(scaled_new_data)\n",
    "# scaled_prediction = scaler_y.inverse_transform(prediction)\n",
    "# print(f'Predicted values: {scaled_prediction}')"
   ]
  },
  {
   "cell_type": "markdown",
   "metadata": {},
   "source": [
    "<h1>Import Libaries</h1>"
   ]
  },
  {
   "cell_type": "code",
   "execution_count": 2,
   "metadata": {},
   "outputs": [
    {
     "name": "stdout",
     "output_type": "stream",
     "text": [
      "Tensorflow version: 2.14.0\n",
      "pandas: 2.1.1\n",
      "numpy: 1.26.0\n",
      "sklearn: 1.3.1\n",
      "plotly: 5.17.0\n",
      "scipy: 1.11.3\n"
     ]
    }
   ],
   "source": [
    "# %pip install tensorflow\n",
    "# %pip install pandas\n",
    "# %pip install scikit-learn\n",
    "# %pip install plotly\n",
    "# %pip install scipy\n",
    "\n",
    "# Tensorflow / Keras\n",
    "import tensorflow as tf\n",
    "from tensorflow import keras\n",
    "print('Tensorflow version:', tf.__version__)\n",
    "from keras.models import Sequential # for creating a linear stack of layers for our Neural Network\n",
    "from keras import Input # for instantiating a keras tensor\n",
    "from keras.layers import Bidirectional, GRU, RepeatVector, Dense, TimeDistributed, concatenate, Dot, Activation, Concatenate, Flatten # for creating layers inside the Neural Network\n",
    "\n",
    "# Data manipulation\n",
    "import pandas as pd # for data manipulation\n",
    "print('pandas: %s' % pd.__version__) # print version\n",
    "import numpy as np # for data manipulation\n",
    "print('numpy: %s' % np.__version__) # print version\n",
    "\n",
    "# Sklearn\n",
    "import sklearn\n",
    "print('sklearn: %s' % sklearn.__version__) # print version\n",
    "from sklearn.preprocessing import MinMaxScaler # for feature scaling\n",
    "from sklearn.model_selection import train_test_split\n",
    "\n",
    "# Visualization\n",
    "import plotly\n",
    "import plotly.express as px\n",
    "import plotly.graph_objects as go\n",
    "print('plotly: %s' % plotly.__version__) # print version\n",
    "\n",
    "import scipy.io\n",
    "from scipy.interpolate import interp1d\n",
    "print('scipy: %s' % scipy.__version__) # print version\n",
    "\n",
    "import matplotlib.pyplot as plt\n",
    "import math\n",
    "import os.path"
   ]
  },
  {
   "cell_type": "markdown",
   "metadata": {},
   "source": [
    "<h1>Load Data</h1>"
   ]
  },
  {
   "cell_type": "markdown",
   "metadata": {},
   "source": [
    "<h3>From several csv files</h3>"
   ]
  },
  {
   "cell_type": "code",
   "execution_count": 16,
   "metadata": {},
   "outputs": [],
   "source": [
    "def rolling_mean(input_signal):\n",
    "    output_signal = input_signal.copy()\n",
    "    buffer = len(input_signal) // 50\n",
    "    running_sum = 0.0\n",
    "\n",
    "    for i in range(len(input_signal)):\n",
    "        running_sum += input_signal[i]\n",
    "\n",
    "        if i < buffer:\n",
    "            output_signal[i] = running_sum / float(i + 1)\n",
    "        else:\n",
    "            running_sum -= input_signal[i - buffer]\n",
    "            output_signal[i] = running_sum / float(buffer)\n",
    "\n",
    "    return output_signal"
   ]
  },
  {
   "cell_type": "code",
   "execution_count": 43,
   "metadata": {},
   "outputs": [
    {
     "ename": "FileNotFoundError",
     "evalue": "[Errno 2] No such file or directory: 'MoCap/static/09_0kg_90deg_pd/elbow_angles.csv'",
     "output_type": "error",
     "traceback": [
      "\u001b[1;31m---------------------------------------------------------------------------\u001b[0m",
      "\u001b[1;31mFileNotFoundError\u001b[0m                         Traceback (most recent call last)",
      "\u001b[1;32mc:\\Users\\Simons Lenovo\\Documents\\GitHub\\MUSE\\Code\\GRU_network\\network.ipynb Cell 7\u001b[0m line \u001b[0;36m7\n\u001b[0;32m      <a href='vscode-notebook-cell:/c%3A/Users/Simons%20Lenovo/Documents/GitHub/MUSE/Code/GRU_network/network.ipynb#W5sZmlsZQ%3D%3D?line=4'>5</a>\u001b[0m kinematic_data_dir \u001b[39m=\u001b[39m \u001b[39m'\u001b[39m\u001b[39mMoCap/static/09_0kg_90deg_pd/elbow_angles.csv\u001b[39m\u001b[39m'\u001b[39m\n\u001b[0;32m      <a href='vscode-notebook-cell:/c%3A/Users/Simons%20Lenovo/Documents/GitHub/MUSE/Code/GRU_network/network.ipynb#W5sZmlsZQ%3D%3D?line=5'>6</a>\u001b[0m eim_data_dir \u001b[39m=\u001b[39m \u001b[39m'\u001b[39m\u001b[39mMoCap/static/09_0kg_90deg_pd/processed_output_data.csv\u001b[39m\u001b[39m'\u001b[39m\n\u001b[1;32m----> <a href='vscode-notebook-cell:/c%3A/Users/Simons%20Lenovo/Documents/GitHub/MUSE/Code/GRU_network/network.ipynb#W5sZmlsZQ%3D%3D?line=6'>7</a>\u001b[0m df_kin\u001b[39m=\u001b[39mpd\u001b[39m.\u001b[39;49mread_csv(kinematic_data_dir, encoding\u001b[39m=\u001b[39;49m\u001b[39m'\u001b[39;49m\u001b[39mutf-8\u001b[39;49m\u001b[39m'\u001b[39;49m, names\u001b[39m=\u001b[39;49m[\u001b[39m\"\u001b[39;49m\u001b[39mElbowAngles\u001b[39;49m\u001b[39m\"\u001b[39;49m, \u001b[39m\"\u001b[39;49m\u001b[39mTime\u001b[39;49m\u001b[39m\"\u001b[39;49m])\n\u001b[0;32m      <a href='vscode-notebook-cell:/c%3A/Users/Simons%20Lenovo/Documents/GitHub/MUSE/Code/GRU_network/network.ipynb#W5sZmlsZQ%3D%3D?line=7'>8</a>\u001b[0m df_eim\u001b[39m=\u001b[39mpd\u001b[39m.\u001b[39mread_csv(eim_data_dir, encoding\u001b[39m=\u001b[39m\u001b[39m'\u001b[39m\u001b[39mutf-8\u001b[39m\u001b[39m'\u001b[39m)\n\u001b[0;32m     <a href='vscode-notebook-cell:/c%3A/Users/Simons%20Lenovo/Documents/GitHub/MUSE/Code/GRU_network/network.ipynb#W5sZmlsZQ%3D%3D?line=9'>10</a>\u001b[0m \u001b[39m# Stripping data of unwanted delimiters and converting to float\u001b[39;00m\n",
      "File \u001b[1;32mc:\\Users\\Simons Lenovo\\AppData\\Local\\Programs\\Python\\Python311\\Lib\\site-packages\\pandas\\io\\parsers\\readers.py:948\u001b[0m, in \u001b[0;36mread_csv\u001b[1;34m(filepath_or_buffer, sep, delimiter, header, names, index_col, usecols, dtype, engine, converters, true_values, false_values, skipinitialspace, skiprows, skipfooter, nrows, na_values, keep_default_na, na_filter, verbose, skip_blank_lines, parse_dates, infer_datetime_format, keep_date_col, date_parser, date_format, dayfirst, cache_dates, iterator, chunksize, compression, thousands, decimal, lineterminator, quotechar, quoting, doublequote, escapechar, comment, encoding, encoding_errors, dialect, on_bad_lines, delim_whitespace, low_memory, memory_map, float_precision, storage_options, dtype_backend)\u001b[0m\n\u001b[0;32m    935\u001b[0m kwds_defaults \u001b[39m=\u001b[39m _refine_defaults_read(\n\u001b[0;32m    936\u001b[0m     dialect,\n\u001b[0;32m    937\u001b[0m     delimiter,\n\u001b[1;32m   (...)\u001b[0m\n\u001b[0;32m    944\u001b[0m     dtype_backend\u001b[39m=\u001b[39mdtype_backend,\n\u001b[0;32m    945\u001b[0m )\n\u001b[0;32m    946\u001b[0m kwds\u001b[39m.\u001b[39mupdate(kwds_defaults)\n\u001b[1;32m--> 948\u001b[0m \u001b[39mreturn\u001b[39;00m _read(filepath_or_buffer, kwds)\n",
      "File \u001b[1;32mc:\\Users\\Simons Lenovo\\AppData\\Local\\Programs\\Python\\Python311\\Lib\\site-packages\\pandas\\io\\parsers\\readers.py:611\u001b[0m, in \u001b[0;36m_read\u001b[1;34m(filepath_or_buffer, kwds)\u001b[0m\n\u001b[0;32m    608\u001b[0m _validate_names(kwds\u001b[39m.\u001b[39mget(\u001b[39m\"\u001b[39m\u001b[39mnames\u001b[39m\u001b[39m\"\u001b[39m, \u001b[39mNone\u001b[39;00m))\n\u001b[0;32m    610\u001b[0m \u001b[39m# Create the parser.\u001b[39;00m\n\u001b[1;32m--> 611\u001b[0m parser \u001b[39m=\u001b[39m TextFileReader(filepath_or_buffer, \u001b[39m*\u001b[39;49m\u001b[39m*\u001b[39;49mkwds)\n\u001b[0;32m    613\u001b[0m \u001b[39mif\u001b[39;00m chunksize \u001b[39mor\u001b[39;00m iterator:\n\u001b[0;32m    614\u001b[0m     \u001b[39mreturn\u001b[39;00m parser\n",
      "File \u001b[1;32mc:\\Users\\Simons Lenovo\\AppData\\Local\\Programs\\Python\\Python311\\Lib\\site-packages\\pandas\\io\\parsers\\readers.py:1448\u001b[0m, in \u001b[0;36mTextFileReader.__init__\u001b[1;34m(self, f, engine, **kwds)\u001b[0m\n\u001b[0;32m   1445\u001b[0m     \u001b[39mself\u001b[39m\u001b[39m.\u001b[39moptions[\u001b[39m\"\u001b[39m\u001b[39mhas_index_names\u001b[39m\u001b[39m\"\u001b[39m] \u001b[39m=\u001b[39m kwds[\u001b[39m\"\u001b[39m\u001b[39mhas_index_names\u001b[39m\u001b[39m\"\u001b[39m]\n\u001b[0;32m   1447\u001b[0m \u001b[39mself\u001b[39m\u001b[39m.\u001b[39mhandles: IOHandles \u001b[39m|\u001b[39m \u001b[39mNone\u001b[39;00m \u001b[39m=\u001b[39m \u001b[39mNone\u001b[39;00m\n\u001b[1;32m-> 1448\u001b[0m \u001b[39mself\u001b[39m\u001b[39m.\u001b[39m_engine \u001b[39m=\u001b[39m \u001b[39mself\u001b[39;49m\u001b[39m.\u001b[39;49m_make_engine(f, \u001b[39mself\u001b[39;49m\u001b[39m.\u001b[39;49mengine)\n",
      "File \u001b[1;32mc:\\Users\\Simons Lenovo\\AppData\\Local\\Programs\\Python\\Python311\\Lib\\site-packages\\pandas\\io\\parsers\\readers.py:1705\u001b[0m, in \u001b[0;36mTextFileReader._make_engine\u001b[1;34m(self, f, engine)\u001b[0m\n\u001b[0;32m   1703\u001b[0m     \u001b[39mif\u001b[39;00m \u001b[39m\"\u001b[39m\u001b[39mb\u001b[39m\u001b[39m\"\u001b[39m \u001b[39mnot\u001b[39;00m \u001b[39min\u001b[39;00m mode:\n\u001b[0;32m   1704\u001b[0m         mode \u001b[39m+\u001b[39m\u001b[39m=\u001b[39m \u001b[39m\"\u001b[39m\u001b[39mb\u001b[39m\u001b[39m\"\u001b[39m\n\u001b[1;32m-> 1705\u001b[0m \u001b[39mself\u001b[39m\u001b[39m.\u001b[39mhandles \u001b[39m=\u001b[39m get_handle(\n\u001b[0;32m   1706\u001b[0m     f,\n\u001b[0;32m   1707\u001b[0m     mode,\n\u001b[0;32m   1708\u001b[0m     encoding\u001b[39m=\u001b[39;49m\u001b[39mself\u001b[39;49m\u001b[39m.\u001b[39;49moptions\u001b[39m.\u001b[39;49mget(\u001b[39m\"\u001b[39;49m\u001b[39mencoding\u001b[39;49m\u001b[39m\"\u001b[39;49m, \u001b[39mNone\u001b[39;49;00m),\n\u001b[0;32m   1709\u001b[0m     compression\u001b[39m=\u001b[39;49m\u001b[39mself\u001b[39;49m\u001b[39m.\u001b[39;49moptions\u001b[39m.\u001b[39;49mget(\u001b[39m\"\u001b[39;49m\u001b[39mcompression\u001b[39;49m\u001b[39m\"\u001b[39;49m, \u001b[39mNone\u001b[39;49;00m),\n\u001b[0;32m   1710\u001b[0m     memory_map\u001b[39m=\u001b[39;49m\u001b[39mself\u001b[39;49m\u001b[39m.\u001b[39;49moptions\u001b[39m.\u001b[39;49mget(\u001b[39m\"\u001b[39;49m\u001b[39mmemory_map\u001b[39;49m\u001b[39m\"\u001b[39;49m, \u001b[39mFalse\u001b[39;49;00m),\n\u001b[0;32m   1711\u001b[0m     is_text\u001b[39m=\u001b[39;49mis_text,\n\u001b[0;32m   1712\u001b[0m     errors\u001b[39m=\u001b[39;49m\u001b[39mself\u001b[39;49m\u001b[39m.\u001b[39;49moptions\u001b[39m.\u001b[39;49mget(\u001b[39m\"\u001b[39;49m\u001b[39mencoding_errors\u001b[39;49m\u001b[39m\"\u001b[39;49m, \u001b[39m\"\u001b[39;49m\u001b[39mstrict\u001b[39;49m\u001b[39m\"\u001b[39;49m),\n\u001b[0;32m   1713\u001b[0m     storage_options\u001b[39m=\u001b[39;49m\u001b[39mself\u001b[39;49m\u001b[39m.\u001b[39;49moptions\u001b[39m.\u001b[39;49mget(\u001b[39m\"\u001b[39;49m\u001b[39mstorage_options\u001b[39;49m\u001b[39m\"\u001b[39;49m, \u001b[39mNone\u001b[39;49;00m),\n\u001b[0;32m   1714\u001b[0m )\n\u001b[0;32m   1715\u001b[0m \u001b[39massert\u001b[39;00m \u001b[39mself\u001b[39m\u001b[39m.\u001b[39mhandles \u001b[39mis\u001b[39;00m \u001b[39mnot\u001b[39;00m \u001b[39mNone\u001b[39;00m\n\u001b[0;32m   1716\u001b[0m f \u001b[39m=\u001b[39m \u001b[39mself\u001b[39m\u001b[39m.\u001b[39mhandles\u001b[39m.\u001b[39mhandle\n",
      "File \u001b[1;32mc:\\Users\\Simons Lenovo\\AppData\\Local\\Programs\\Python\\Python311\\Lib\\site-packages\\pandas\\io\\common.py:872\u001b[0m, in \u001b[0;36mget_handle\u001b[1;34m(path_or_buf, mode, encoding, compression, memory_map, is_text, errors, storage_options)\u001b[0m\n\u001b[0;32m    863\u001b[0m         handle \u001b[39m=\u001b[39m \u001b[39mopen\u001b[39m(\n\u001b[0;32m    864\u001b[0m             handle,\n\u001b[0;32m    865\u001b[0m             ioargs\u001b[39m.\u001b[39mmode,\n\u001b[1;32m   (...)\u001b[0m\n\u001b[0;32m    868\u001b[0m             newline\u001b[39m=\u001b[39m\u001b[39m\"\u001b[39m\u001b[39m\"\u001b[39m,\n\u001b[0;32m    869\u001b[0m         )\n\u001b[0;32m    870\u001b[0m     \u001b[39melse\u001b[39;00m:\n\u001b[0;32m    871\u001b[0m         \u001b[39m# Binary mode\u001b[39;00m\n\u001b[1;32m--> 872\u001b[0m         handle \u001b[39m=\u001b[39m \u001b[39mopen\u001b[39m(handle, ioargs\u001b[39m.\u001b[39mmode)\n\u001b[0;32m    873\u001b[0m     handles\u001b[39m.\u001b[39mappend(handle)\n\u001b[0;32m    875\u001b[0m \u001b[39m# Convert BytesIO or file objects passed with an encoding\u001b[39;00m\n",
      "\u001b[1;31mFileNotFoundError\u001b[0m: [Errno 2] No such file or directory: 'MoCap/static/09_0kg_90deg_pd/elbow_angles.csv'"
     ]
    }
   ],
   "source": [
    "# Set Pandas options to display more columns\n",
    "pd.options.display.max_columns=150\n",
    "\n",
    "# Loading data and adding headers 'ElbowAngles' and 'Time'\n",
    "kinematic_data_dir = 'MoCap/static/09_0kg_90deg_pd/elbow_angles.csv'\n",
    "eim_data_dir = 'MoCap/static/09_0kg_90deg_pd/processed_output_data.csv'\n",
    "df_kin=pd.read_csv(kinematic_data_dir, encoding='utf-8', names=[\"ElbowAngles\", \"Time\"])\n",
    "df_eim=pd.read_csv(eim_data_dir, encoding='utf-8')\n",
    "\n",
    "# Stripping data of unwanted delimiters and converting to float\n",
    "df_kin['ElbowAngles'] = df_kin['ElbowAngles'].str.strip('[]').astype(float)\n",
    "df_kin['Time'] = df_kin['Time'].str.strip('[]').astype(str)\n",
    "df_kin['Time'] = df_kin['Time'].str.strip('\\'').astype(float)\n",
    "\n",
    "# Extracting Unix time\n",
    "kin_unix = df_kin['Time'].values\n",
    "eim_unix = df_eim['Time'].values\n",
    "\n",
    "# Extracting max and min Unix values of kin and using these to figure out where to slice the EIM data\n",
    "kin_min = kin_unix.min()\n",
    "kin_max = kin_unix.max()\n",
    "\n",
    "# Filter EIM data based on kinematic Unix time range\n",
    "df_eim = df_eim[(df_eim['Time'] >= kin_min) & (df_eim['Time'] <= kin_max)]\n",
    "\n",
    "# Creating timestamps. EIM samples at 1000hZ, so 1 timestamp will correspond to 1ms\n",
    "df_eim['Timestamp'] = np.linspace(0, (len(df_eim) - 1), len(df_eim))\n",
    "df_kin['Timestamp'] = np.linspace(0, (len(df_kin) - 1), len(df_kin))\n",
    "\n",
    "# Extract timestamps and kinematic data\n",
    "kinematic_timestamps = df_kin['Timestamp'].values\n",
    "kinematic_data = df_kin['ElbowAngles'].values\n",
    "eim_timestamps = df_eim['Timestamp'].values\n",
    "\n",
    "# Interpolation of the kinematic data to match the EIM data\n",
    "shape = eim_timestamps.shape\n",
    "kinematic_interpolated = np.empty(shape)\n",
    "kin_idx = 0\n",
    "step = math.floor(len(eim_timestamps)/len(kinematic_timestamps))\n",
    "step_remainder = len(eim_timestamps)/len(kinematic_timestamps) - step\n",
    "step_temp = 0\n",
    "temp = 0\n",
    "\n",
    "# Linear interpolation done by averaging between two points. Each data step is done based \n",
    "# on the integer difference between the lenghts of the datasets. For increased accuracy, \n",
    "# whenever the remainder of the division becomes equal to or greater than 1, 1 is added \n",
    "# to the step, and withdrawn from the counter.\n",
    "for i in range(0, len(kinematic_data), 1):\n",
    "    kinematic_interpolated[kin_idx] = kinematic_data[i]\n",
    "    if i < len(kinematic_data)-1:\n",
    "        temp = kinematic_data[i+1]\n",
    "        for j in range(kin_idx + 1, kin_idx+step, 1):\n",
    "            kinematic_interpolated[j] = (kinematic_interpolated[j-1] + temp) / 2\n",
    "    else:\n",
    "        temp = kinematic_data[i]\n",
    "        for j in range(kin_idx + 1, len(eim_timestamps), 1):\n",
    "            kinematic_interpolated[j] = (kinematic_interpolated[j-1] + temp) / 2\n",
    "\n",
    "        step_temp = step_temp+step_remainder\n",
    "    if step_temp >= 1:\n",
    "        kin_idx = kin_idx + step + 1\n",
    "        step_temp = step_temp - 1\n",
    "    else:\n",
    "        kin_idx = kin_idx + step\n",
    "\n",
    "\n",
    "# Interpolate kinematic data to match EIM timestamps. Lines are drawn between the spread out data. \n",
    "# Missing values are being extrapolated\n",
    "kinematic_interpolated = interp1d(eim_timestamps, kinematic_interpolated, kind='linear', fill_value='extrapolate')\n",
    "\n",
    "# The interpolated data is being saved to the JointAngle column in the eim_data\n",
    "df_eim['JointAngle'] = kinematic_interpolated(eim_timestamps)\n",
    "\n",
    "# df_eim['RollingAverageMag'] = df_eim['EIMMagnitude'].rolling(100).mean()\n",
    "# df_eim['RollingAveragePhase'] = df_eim['EIMPhase'].rolling(100).mean()\n",
    "\n",
    "# Calculating rolling mean\n",
    "\n",
    "df_eim['RollingAverageMag'] = rolling_mean(df_eim['EIMMagnitude'])\n",
    "df_eim['RollingAveragePhase'] = rolling_mean(df_eim['EIMPhase'])\n",
    "\n",
    "#Filling NaN values out with the first mean value in the series\n",
    "# mean_value=df_eim['RollingAverageMag'][99]\n",
    "# df_eim['RollingAverageMag'].fillna(value=mean_value, inplace=True) \n",
    "# mean_value=df_eim['RollingAveragePhase'][99]\n",
    "# df_eim['RollingAveragePhase'].fillna(value=mean_value, inplace=True) \n",
    "\n",
    "# Saving the result to csv, where all samples are gonna be saved\n",
    "df_final = df_eim[['Sample', 'EIMMagnitude', 'EIMPhase', 'JointAngle', 'Mass', 'Time', 'RollingAverageMag', 'RollingAveragePhase']]\n",
    "df_eim_kin = 'all_samples.csv'\n",
    "\n",
    "if(os.path.isfile(df_eim_kin)):\n",
    "    sample_number = input(\"Please provide the sample number and press enter:\")\n",
    "    mass = input(\"Please provide the mass used in the current sample:\")\n",
    "    df_final = df_final.assign(Sample=sample_number)\n",
    "    df_final = df_final.assign(Mass=mass)\n",
    "    # df_final.loc[:]['Sample'] = sample_number\n",
    "    # df_final.loc[:]['Mass'] = mass\n",
    "    # df_final['Sample'] = df_final['Sample'].replace(df_final['Sample'], sample_number)\n",
    "    # df_final['Mass'] = df_final['Mass'].replace(df_final['Mass'], sample_number)\n",
    "\n",
    "    df_final.to_csv(df_eim_kin, mode='a', index= False, header=False)\n",
    "else:\n",
    "    sample_number = input(\"Please provide the sample number and press enter:\")\n",
    "    mass = input(\"Please provide the mass used in the current sample:\")\n",
    "    df_final = df_final.assign(Sample=sample_number)\n",
    "    df_final = df_final.assign(Mass=mass)\n",
    "    # df_final['Sample'] = df_final['Sample'].replace(df_final['Sample'], sample_number)\n",
    "    # df_final['Mass'] = df_final['Mass'].replace(df_final['Mass'], sample_number)\n",
    "\n",
    "    df_final.to_csv(df_eim_kin, mode='w', index= False)\n",
    "\n",
    "# Assuming df_eim is your DataFrame\n",
    "plt.plot(df_eim['Timestamp'], df_eim['JointAngle'], marker='o')\n",
    "plt.xlabel('Timestamp')\n",
    "plt.ylabel('ElbowAngles')\n",
    "plt.title('Line Plot of ElbowAngles')\n",
    "plt.show()\n",
    "\n",
    "# plt.plot(df_eim['Timestamp'], df_eim['EIMMagnitude'], marker='o')\n",
    "# plt.xlabel('Timestamp')\n",
    "# plt.ylabel('EIMMagnitude')\n",
    "# plt.title('Line Plot of EIMMagnitude')\n",
    "# plt.show()\n",
    "\n",
    "plt.plot(df_eim['Timestamp'], df_eim['RollingAverageMag'], marker='o')\n",
    "plt.xlabel('Timestamp')\n",
    "plt.ylabel('RollingAverageEIM')\n",
    "plt.title('Line Plot of RollingAverageEIM')\n",
    "plt.show()\n",
    "\n",
    "\n",
    "plt.plot(df_eim['Timestamp'], df_eim['RollingAveragePhase'], marker='o')\n",
    "plt.xlabel('Timestamp')\n",
    "plt.ylabel('EIMPhase')\n",
    "plt.title('Line Plot of EIMPhase')\n",
    "plt.show()\n",
    "\n",
    "print(df_eim.head(100))"
   ]
  },
  {
   "cell_type": "markdown",
   "metadata": {},
   "source": [
    "<h3>From one csv file</h3>"
   ]
  },
  {
   "cell_type": "code",
   "execution_count": 3,
   "metadata": {},
   "outputs": [
    {
     "data": {
      "text/html": [
       "<div>\n",
       "<style scoped>\n",
       "    .dataframe tbody tr th:only-of-type {\n",
       "        vertical-align: middle;\n",
       "    }\n",
       "\n",
       "    .dataframe tbody tr th {\n",
       "        vertical-align: top;\n",
       "    }\n",
       "\n",
       "    .dataframe thead th {\n",
       "        text-align: right;\n",
       "    }\n",
       "</style>\n",
       "<table border=\"1\" class=\"dataframe\">\n",
       "  <thead>\n",
       "    <tr style=\"text-align: right;\">\n",
       "      <th></th>\n",
       "      <th>Sample</th>\n",
       "      <th>EIMMagnitude</th>\n",
       "      <th>JointAngle</th>\n",
       "      <th>MedianEIMMagnitude</th>\n",
       "      <th>MedianJointAngle</th>\n",
       "      <th>MeanEIMMagnitude</th>\n",
       "      <th>MeanJointAngle</th>\n",
       "    </tr>\n",
       "  </thead>\n",
       "  <tbody>\n",
       "    <tr>\n",
       "      <th>0</th>\n",
       "      <td>1</td>\n",
       "      <td>0.170576</td>\n",
       "      <td>19.06410</td>\n",
       "      <td>0.131785</td>\n",
       "      <td>25.15580</td>\n",
       "      <td>0.127886</td>\n",
       "      <td>27.666430</td>\n",
       "    </tr>\n",
       "    <tr>\n",
       "      <th>1</th>\n",
       "      <td>1</td>\n",
       "      <td>0.171149</td>\n",
       "      <td>19.22470</td>\n",
       "      <td>0.131785</td>\n",
       "      <td>25.15580</td>\n",
       "      <td>0.127886</td>\n",
       "      <td>27.666430</td>\n",
       "    </tr>\n",
       "    <tr>\n",
       "      <th>2</th>\n",
       "      <td>1</td>\n",
       "      <td>0.171268</td>\n",
       "      <td>19.41260</td>\n",
       "      <td>0.131785</td>\n",
       "      <td>25.15580</td>\n",
       "      <td>0.127886</td>\n",
       "      <td>27.666430</td>\n",
       "    </tr>\n",
       "    <tr>\n",
       "      <th>3</th>\n",
       "      <td>1</td>\n",
       "      <td>0.170952</td>\n",
       "      <td>19.62800</td>\n",
       "      <td>0.131785</td>\n",
       "      <td>25.15580</td>\n",
       "      <td>0.127886</td>\n",
       "      <td>27.666430</td>\n",
       "    </tr>\n",
       "    <tr>\n",
       "      <th>4</th>\n",
       "      <td>1</td>\n",
       "      <td>0.170223</td>\n",
       "      <td>19.87090</td>\n",
       "      <td>0.131785</td>\n",
       "      <td>25.15580</td>\n",
       "      <td>0.127886</td>\n",
       "      <td>27.666430</td>\n",
       "    </tr>\n",
       "    <tr>\n",
       "      <th>...</th>\n",
       "      <td>...</td>\n",
       "      <td>...</td>\n",
       "      <td>...</td>\n",
       "      <td>...</td>\n",
       "      <td>...</td>\n",
       "      <td>...</td>\n",
       "      <td>...</td>\n",
       "    </tr>\n",
       "    <tr>\n",
       "      <th>22789</th>\n",
       "      <td>77</td>\n",
       "      <td>0.014896</td>\n",
       "      <td>7.03165</td>\n",
       "      <td>0.057202</td>\n",
       "      <td>6.90613</td>\n",
       "      <td>0.030544</td>\n",
       "      <td>6.606367</td>\n",
       "    </tr>\n",
       "    <tr>\n",
       "      <th>22790</th>\n",
       "      <td>77</td>\n",
       "      <td>0.014989</td>\n",
       "      <td>7.03163</td>\n",
       "      <td>0.057202</td>\n",
       "      <td>6.90613</td>\n",
       "      <td>0.030544</td>\n",
       "      <td>6.606367</td>\n",
       "    </tr>\n",
       "    <tr>\n",
       "      <th>22791</th>\n",
       "      <td>77</td>\n",
       "      <td>0.015064</td>\n",
       "      <td>7.03164</td>\n",
       "      <td>0.057202</td>\n",
       "      <td>6.90613</td>\n",
       "      <td>0.030544</td>\n",
       "      <td>6.606367</td>\n",
       "    </tr>\n",
       "    <tr>\n",
       "      <th>22792</th>\n",
       "      <td>77</td>\n",
       "      <td>0.015118</td>\n",
       "      <td>7.03164</td>\n",
       "      <td>0.057202</td>\n",
       "      <td>6.90613</td>\n",
       "      <td>0.030544</td>\n",
       "      <td>6.606367</td>\n",
       "    </tr>\n",
       "    <tr>\n",
       "      <th>22793</th>\n",
       "      <td>77</td>\n",
       "      <td>0.015151</td>\n",
       "      <td>7.03166</td>\n",
       "      <td>0.057202</td>\n",
       "      <td>6.90613</td>\n",
       "      <td>0.030544</td>\n",
       "      <td>6.606367</td>\n",
       "    </tr>\n",
       "  </tbody>\n",
       "</table>\n",
       "<p>22794 rows × 7 columns</p>\n",
       "</div>"
      ],
      "text/plain": [
       "       Sample  EIMMagnitude  JointAngle  MedianEIMMagnitude  MedianJointAngle  \\\n",
       "0           1      0.170576    19.06410            0.131785          25.15580   \n",
       "1           1      0.171149    19.22470            0.131785          25.15580   \n",
       "2           1      0.171268    19.41260            0.131785          25.15580   \n",
       "3           1      0.170952    19.62800            0.131785          25.15580   \n",
       "4           1      0.170223    19.87090            0.131785          25.15580   \n",
       "...       ...           ...         ...                 ...               ...   \n",
       "22789      77      0.014896     7.03165            0.057202           6.90613   \n",
       "22790      77      0.014989     7.03163            0.057202           6.90613   \n",
       "22791      77      0.015064     7.03164            0.057202           6.90613   \n",
       "22792      77      0.015118     7.03164            0.057202           6.90613   \n",
       "22793      77      0.015151     7.03166            0.057202           6.90613   \n",
       "\n",
       "       MeanEIMMagnitude  MeanJointAngle  \n",
       "0              0.127886       27.666430  \n",
       "1              0.127886       27.666430  \n",
       "2              0.127886       27.666430  \n",
       "3              0.127886       27.666430  \n",
       "4              0.127886       27.666430  \n",
       "...                 ...             ...  \n",
       "22789          0.030544        6.606367  \n",
       "22790          0.030544        6.606367  \n",
       "22791          0.030544        6.606367  \n",
       "22792          0.030544        6.606367  \n",
       "22793          0.030544        6.606367  \n",
       "\n",
       "[22794 rows x 7 columns]"
      ]
     },
     "execution_count": 3,
     "metadata": {},
     "output_type": "execute_result"
    }
   ],
   "source": [
    "# Set Pandas options to display more columns\n",
    "pd.options.display.max_columns=150\n",
    "\n",
    "# Google drive location weatherset: /content/drive/My Drive/Bachelor/NeuralNetwork/weatherAUS.csv\n",
    "# Local weatherset location: C:/Users/Simons Lenovo/Desktop/Neural_network_data/weatherAUS.csv\n",
    "data_dir = \"EIM_kin_data.csv\"\n",
    "\n",
    "# Read in the data csv - keep only the columns we need\n",
    "# For csv read: \n",
    "df=pd.read_csv(data_dir, encoding='utf-8', usecols=['Sample', 'EIMMagnitude', 'JointAngle'])\n",
    "# df=scipy.io.loadmat(data_dir)   # Specifically for loading .mat files\n",
    "\n",
    "# Drop records where target EIMMagnitude=NaN or JointAngle=NaN\n",
    "df=df[pd.isnull(df['EIMMagnitude'])==False]\n",
    "df=df[pd.isnull(df['JointAngle'])==False]\n",
    "\n",
    "# Group the DataFrame by the 'Sample' column\n",
    "grouped = df.groupby('Sample')\n",
    "\n",
    "# Calculate the median for each group\n",
    "median_values = grouped[['EIMMagnitude', 'JointAngle']].apply(lambda group: group[['EIMMagnitude', 'JointAngle']].agg(['min', 'max']).median())\n",
    "\n",
    "# Calculate the mean for each group\n",
    "mean_values = grouped[['EIMMagnitude', 'JointAngle']].mean()\n",
    "\n",
    "# Reset the index to get the 'Sample' column back\n",
    "median_values.reset_index(inplace=True)\n",
    "mean_values.reset_index(inplace=True)\n",
    "\n",
    "# Rename the columns to indicate they represent the median\n",
    "median_values.columns = ['Sample', 'MedianEIMMagnitude', 'MedianJointAngle']\n",
    "mean_values.columns = ['Sample', 'MeanEIMMagnitude', 'MeanJointAngle']\n",
    "\n",
    "# Merge the median and mean values back into the original DataFrame based on the 'Sample' column\n",
    "df = df.merge(median_values, on='Sample', how='left')\n",
    "df = df.merge(mean_values, on='Sample', how='left')\n",
    "\n",
    "# Show a snaphsot of data\n",
    "df"
   ]
  },
  {
   "cell_type": "markdown",
   "metadata": {},
   "source": [
    "<h5>Visualization</h5>"
   ]
  },
  {
   "cell_type": "code",
   "execution_count": 4,
   "metadata": {},
   "outputs": [],
   "source": [
    "\n",
    "# Assuming your data is stored in a pandas DataFrame named 'df'\n",
    "# Filter the data for the first 10 samples\n",
    "df_first_10_samples = df[df['Sample'] <= 10]\n",
    "\n",
    "# Create a scatter plot for EIMMagnitude and JointAngle\n",
    "fig = go.Figure()\n",
    "\n",
    "for sample in df_first_10_samples['Sample'].unique():\n",
    "    sample_data = df_first_10_samples[df_first_10_samples['Sample'] == sample]\n",
    "    fig.add_trace(go.Scatter(x=sample_data.index, y=sample_data['EIMMagnitude'],\n",
    "                             mode='lines+markers', name=f'Sample {sample} - EIMMagnitude'))\n",
    "    fig.add_trace(go.Scatter(x=sample_data.index, y=sample_data['JointAngle'],\n",
    "                             mode='lines+markers', name=f'Sample {sample} - JointAngle'))\n",
    "\n",
    "fig.update_layout(title='EMG and Kinematic Data for the First 10 Samples',\n",
    "                  xaxis_title='Time Steps', yaxis_title='Value')\n",
    "\n",
    "# Show the plot\n",
    "fig.show()\n"
   ]
  },
  {
   "cell_type": "markdown",
   "metadata": {},
   "source": [
    "<h1>Data preprocessing</h1>"
   ]
  },
  {
   "cell_type": "markdown",
   "metadata": {},
   "source": [
    "Normalizing. Range of the scaler should be the same for x and y axis"
   ]
  },
  {
   "cell_type": "code",
   "execution_count": 5,
   "metadata": {},
   "outputs": [
    {
     "data": {
      "text/html": [
       "<div>\n",
       "<style scoped>\n",
       "    .dataframe tbody tr th:only-of-type {\n",
       "        vertical-align: middle;\n",
       "    }\n",
       "\n",
       "    .dataframe tbody tr th {\n",
       "        vertical-align: top;\n",
       "    }\n",
       "\n",
       "    .dataframe thead th {\n",
       "        text-align: right;\n",
       "    }\n",
       "</style>\n",
       "<table border=\"1\" class=\"dataframe\">\n",
       "  <thead>\n",
       "    <tr style=\"text-align: right;\">\n",
       "      <th></th>\n",
       "      <th>Sample</th>\n",
       "      <th>EIMMagnitude</th>\n",
       "      <th>JointAngle</th>\n",
       "      <th>MedianEIMMagnitude</th>\n",
       "      <th>MedianJointAngle</th>\n",
       "      <th>MeanEIMMagnitude</th>\n",
       "      <th>MeanJointAngle</th>\n",
       "    </tr>\n",
       "  </thead>\n",
       "  <tbody>\n",
       "    <tr>\n",
       "      <th>0</th>\n",
       "      <td>1</td>\n",
       "      <td>0.173871</td>\n",
       "      <td>0.524417</td>\n",
       "      <td>0.131785</td>\n",
       "      <td>25.15580</td>\n",
       "      <td>0.127886</td>\n",
       "      <td>27.666430</td>\n",
       "    </tr>\n",
       "    <tr>\n",
       "      <th>1</th>\n",
       "      <td>1</td>\n",
       "      <td>0.174468</td>\n",
       "      <td>0.526169</td>\n",
       "      <td>0.131785</td>\n",
       "      <td>25.15580</td>\n",
       "      <td>0.127886</td>\n",
       "      <td>27.666430</td>\n",
       "    </tr>\n",
       "    <tr>\n",
       "      <th>2</th>\n",
       "      <td>1</td>\n",
       "      <td>0.174592</td>\n",
       "      <td>0.528218</td>\n",
       "      <td>0.131785</td>\n",
       "      <td>25.15580</td>\n",
       "      <td>0.127886</td>\n",
       "      <td>27.666430</td>\n",
       "    </tr>\n",
       "    <tr>\n",
       "      <th>3</th>\n",
       "      <td>1</td>\n",
       "      <td>0.174263</td>\n",
       "      <td>0.530566</td>\n",
       "      <td>0.131785</td>\n",
       "      <td>25.15580</td>\n",
       "      <td>0.127886</td>\n",
       "      <td>27.666430</td>\n",
       "    </tr>\n",
       "    <tr>\n",
       "      <th>4</th>\n",
       "      <td>1</td>\n",
       "      <td>0.173503</td>\n",
       "      <td>0.533215</td>\n",
       "      <td>0.131785</td>\n",
       "      <td>25.15580</td>\n",
       "      <td>0.127886</td>\n",
       "      <td>27.666430</td>\n",
       "    </tr>\n",
       "    <tr>\n",
       "      <th>...</th>\n",
       "      <td>...</td>\n",
       "      <td>...</td>\n",
       "      <td>...</td>\n",
       "      <td>...</td>\n",
       "      <td>...</td>\n",
       "      <td>...</td>\n",
       "      <td>...</td>\n",
       "    </tr>\n",
       "    <tr>\n",
       "      <th>22789</th>\n",
       "      <td>77</td>\n",
       "      <td>0.011640</td>\n",
       "      <td>0.393212</td>\n",
       "      <td>0.057202</td>\n",
       "      <td>6.90613</td>\n",
       "      <td>0.030544</td>\n",
       "      <td>6.606367</td>\n",
       "    </tr>\n",
       "    <tr>\n",
       "      <th>22790</th>\n",
       "      <td>77</td>\n",
       "      <td>0.011737</td>\n",
       "      <td>0.393212</td>\n",
       "      <td>0.057202</td>\n",
       "      <td>6.90613</td>\n",
       "      <td>0.030544</td>\n",
       "      <td>6.606367</td>\n",
       "    </tr>\n",
       "    <tr>\n",
       "      <th>22791</th>\n",
       "      <td>77</td>\n",
       "      <td>0.011815</td>\n",
       "      <td>0.393212</td>\n",
       "      <td>0.057202</td>\n",
       "      <td>6.90613</td>\n",
       "      <td>0.030544</td>\n",
       "      <td>6.606367</td>\n",
       "    </tr>\n",
       "    <tr>\n",
       "      <th>22792</th>\n",
       "      <td>77</td>\n",
       "      <td>0.011871</td>\n",
       "      <td>0.393212</td>\n",
       "      <td>0.057202</td>\n",
       "      <td>6.90613</td>\n",
       "      <td>0.030544</td>\n",
       "      <td>6.606367</td>\n",
       "    </tr>\n",
       "    <tr>\n",
       "      <th>22793</th>\n",
       "      <td>77</td>\n",
       "      <td>0.011906</td>\n",
       "      <td>0.393212</td>\n",
       "      <td>0.057202</td>\n",
       "      <td>6.90613</td>\n",
       "      <td>0.030544</td>\n",
       "      <td>6.606367</td>\n",
       "    </tr>\n",
       "  </tbody>\n",
       "</table>\n",
       "<p>22794 rows × 7 columns</p>\n",
       "</div>"
      ],
      "text/plain": [
       "       Sample  EIMMagnitude  JointAngle  MedianEIMMagnitude  MedianJointAngle  \\\n",
       "0           1      0.173871    0.524417            0.131785          25.15580   \n",
       "1           1      0.174468    0.526169            0.131785          25.15580   \n",
       "2           1      0.174592    0.528218            0.131785          25.15580   \n",
       "3           1      0.174263    0.530566            0.131785          25.15580   \n",
       "4           1      0.173503    0.533215            0.131785          25.15580   \n",
       "...       ...           ...         ...                 ...               ...   \n",
       "22789      77      0.011640    0.393212            0.057202           6.90613   \n",
       "22790      77      0.011737    0.393212            0.057202           6.90613   \n",
       "22791      77      0.011815    0.393212            0.057202           6.90613   \n",
       "22792      77      0.011871    0.393212            0.057202           6.90613   \n",
       "22793      77      0.011906    0.393212            0.057202           6.90613   \n",
       "\n",
       "       MeanEIMMagnitude  MeanJointAngle  \n",
       "0              0.127886       27.666430  \n",
       "1              0.127886       27.666430  \n",
       "2              0.127886       27.666430  \n",
       "3              0.127886       27.666430  \n",
       "4              0.127886       27.666430  \n",
       "...                 ...             ...  \n",
       "22789          0.030544        6.606367  \n",
       "22790          0.030544        6.606367  \n",
       "22791          0.030544        6.606367  \n",
       "22792          0.030544        6.606367  \n",
       "22793          0.030544        6.606367  \n",
       "\n",
       "[22794 rows x 7 columns]"
      ]
     },
     "execution_count": 5,
     "metadata": {},
     "output_type": "execute_result"
    }
   ],
   "source": [
    "# Create a copy of an original dataframe\n",
    "df2=df.copy()\n",
    "\n",
    "# Define the columns you want to normalize\n",
    "columns_to_normalize = ['EIMMagnitude','JointAngle', ]\n",
    "\n",
    "# Initialize the MinMaxScaler\n",
    "scaler = MinMaxScaler(feature_range=(0, 1))\n",
    "\n",
    "# Fit and transform the selected columns\n",
    "df2[columns_to_normalize] = scaler.fit_transform(df[columns_to_normalize])\n",
    "\n",
    "# Show a snaphsot of data\n",
    "df2"
   ]
  },
  {
   "cell_type": "code",
   "execution_count": 6,
   "metadata": {},
   "outputs": [],
   "source": [
    "# Assuming your data is stored in a pandas DataFrame named 'df'\n",
    "# Filter the data for the first 10 samples\n",
    "df_first_10_samples = df2[df2['Sample'] <= 10]\n",
    "\n",
    "# Create a scatter plot for EIMMagnitude and JointAngle\n",
    "fig = go.Figure()\n",
    "\n",
    "for sample in df_first_10_samples['Sample'].unique():\n",
    "    sample_data = df_first_10_samples[df_first_10_samples['Sample'] == sample]\n",
    "    fig.add_trace(go.Scatter(x=sample_data.index, y=sample_data['EIMMagnitude'],\n",
    "                             mode='lines+markers', name=f'Sample {sample} - EIMMagnitude'))\n",
    "    fig.add_trace(go.Scatter(x=sample_data.index, y=sample_data['JointAngle'],\n",
    "                             mode='lines+markers', name=f'Sample {sample} - JointAngle'))\n",
    "\n",
    "fig.update_layout(title='EMG and Kinematic Data for the First 10 Samples',\n",
    "                  xaxis_title='Time Steps', yaxis_title='Value')\n",
    "\n",
    "# Show the plot\n",
    "fig.show()"
   ]
  },
  {
   "cell_type": "markdown",
   "metadata": {},
   "source": [
    "<h1>Prepare sequences for GRU</h1>"
   ]
  },
  {
   "cell_type": "markdown",
   "metadata": {},
   "source": [
    "This is important for synchronizing the data with eachother with a common time variable. The \"time-variable\" from the dataset is therefor strictly speaking not needed for training the network.\n",
    "\n",
    "The time_steps variable is a hyper parameter, that determines how many prior time steps the network should take into account. If time_steps=10 for example, each input sequence will contain data from the previous 10 steps, and the model will try to learn patterns based on this history.\n",
    "\n",
    "Using a smaller number of time steps might help the model capture short-term dependencies, while a larger number could capture longer-term patterns. It's essential to experiment and choose a value that best fits the nature of the data and the task at hand."
   ]
  },
  {
   "cell_type": "markdown",
   "metadata": {},
   "source": [
    "<h3>Training and evaluating GRU model Here are a few things to highlight before we start.</h3>\n",
    "\n",
    "**Example:** We will use sequences of 18 months to predict the average temperatures for the next 18 months. \n",
    "\n",
    "We will split the data into two separate dataframes — one for training and the other for validation (out of time validation).\n",
    "\n",
    "Since we are creating a many-to-many prediction model, we need to use a slightly more complex encoder-decoder configuration. Both encoder and decoder are hidden GRU layers, with information passed from one to another via a repeat vector layer.\n",
    "\n",
    "A repeat vector is necessary when we want to have sequences of different lengths, e.g., a sequence of 18 months to predict the next 12 months. It ensures that we provide the right shape for a decoder layer. However, if your input and output sequences are of the same length as in my example, then you can also choose to set return_sequences=True in the encoder layer and remove the repeat vector. Note that we added a Bidirectional wrapper to GRU layers. It allows us to train the model in both directions, which sometimes produces better results. However, its use is optional.\n",
    "\n",
    "Also, we need to use a Time Distributed wrapper in the output layer to predict outputs for each timestep individually. Finally, I have used MinMaxScaling in this example because it has produced better results than the unscaled version. You can find both scaled and unscaled setups within Jupyter Notebooks in my GitHub repository (link available at the end of the article).\n",
    "\n",
    "First, let’s define a helper function to reshape the data to a 3D array required by GRU."
   ]
  },
  {
   "cell_type": "code",
   "execution_count": 7,
   "metadata": {},
   "outputs": [],
   "source": [
    "def reshape_for_gru(datain, timestep, scaler, columns_to_use):\n",
    "    X_out, Y_out = None, None\n",
    "\n",
    "    for sample in datain['Sample'].unique():\n",
    "        datatmp = datain[datain['Sample'] == sample].copy()\n",
    "\n",
    "        for col in columns_to_use:\n",
    "            arr = datatmp[col].to_numpy()\n",
    "\n",
    "            # Scale using transform (using previously fitted scaler)\n",
    "            arr_scaled = scaler.transform(arr.reshape(-1, 1)).flatten()\n",
    "\n",
    "            cnt = 0\n",
    "            for t in range(0, len(arr_scaled) - 2 * timestep + 1):\n",
    "                cnt += 1\n",
    "                X_start = t\n",
    "                X_end = t + timestep\n",
    "                Y_start = t + timestep\n",
    "                Y_end = t + 2 * timestep\n",
    "\n",
    "                if X_out is None:\n",
    "                    X_out = arr_scaled[X_start:X_end].reshape(1, timestep, 1)\n",
    "                    Y_out = arr_scaled[Y_start:Y_end].reshape(1, timestep, 1)\n",
    "                else:\n",
    "                    X_out = np.append(X_out, arr_scaled[X_start:X_end].reshape(1, timestep, 1), axis=0)\n",
    "                    Y_out = np.append(Y_out, arr_scaled[Y_start:Y_end].reshape(1, timestep, 1), axis=0)\n",
    "\n",
    "    return X_out, Y_out"
   ]
  },
  {
   "cell_type": "code",
   "execution_count": 22,
   "metadata": {},
   "outputs": [],
   "source": [
    "scaler = MinMaxScaler(feature_range=(0,1))\n",
    "timestep = 20\n",
    "\n",
    "# Split data into train, eval, and test dataframes\n",
    "train_ratio = 0.7\n",
    "eval_ratio = 0.2\n",
    "test_ratio = 0.1\n",
    "\n",
    "# Split the data\n",
    "df_train, df_temp = train_test_split(df, test_size=1 - train_ratio, random_state=42)\n",
    "df_eval, df_test = train_test_split(df_temp, test_size=test_ratio / (test_ratio + eval_ratio), random_state=42)\n",
    "\n",
    "# Use fit to train the scaler on the training data only, actual scaling will be done inside reshaping function\n",
    "scaler.fit(df_train[['EIMMagnitude', 'JointAngle',]].values.reshape(-1, 1))\n",
    "\n",
    "# Use the reshaping function to reshape the data for GRU\n",
    "columns_to_use = ['EIMMagnitude', 'JointAngle']\n",
    "\n",
    "X_train, Y_train = reshape_for_gru(df_train, timestep, scaler, columns_to_use)\n",
    "X_eval, Y_eval = reshape_for_gru(df_eval, timestep, scaler, columns_to_use)\n",
    "X_test, Y_test = reshape_for_gru(df_test, timestep, scaler, columns_to_use)"
   ]
  },
  {
   "cell_type": "code",
   "execution_count": 23,
   "metadata": {},
   "outputs": [
    {
     "name": "stdout",
     "output_type": "stream",
     "text": [
      "X_train_shape:  (26074, 20, 1)\n",
      "Y_train_shape:  (26074, 20, 1)\n",
      "X_eval_shape:  (5088, 20, 1)\n",
      "Y_eval_shape:  (5088, 20, 1)\n",
      "X_test_shape:  (1830, 20, 1)\n",
      "Y_test_shape:  (1830, 20, 1)\n"
     ]
    }
   ],
   "source": [
    "print('X_train_shape: ',X_train.shape)\n",
    "print('Y_train_shape: ',Y_train.shape)\n",
    "print('X_eval_shape: ',X_eval.shape)\n",
    "print('Y_eval_shape: ',Y_eval.shape)\n",
    "print('X_test_shape: ',X_test.shape)\n",
    "print('Y_test_shape: ',Y_test.shape)"
   ]
  },
  {
   "cell_type": "markdown",
   "metadata": {},
   "source": [
    "The architecture you've provided is a sequence-to-sequence model based on a Bidirectional GRU (gated recurrent unit) network. It's a reasonable choice for sequence-to-sequence problems, including mapping kinematic data to EIM data. The structure of your model includes the following components:\n",
    "\n",
    "1. **Input Layer**: This layer takes the input sequences. The shape is correctly specified as `(X_train.shape[1], X_train.shape[2])`, which matches the shape of your training data. This is suitable for the input data you have.\n",
    "\n",
    "2. **Bidirectional GRU Encoder Layer**: This layer effectively encodes the input sequence. Using a Bidirectional GRU allows the model to capture information from both past and future time steps. The `units=32` parameter defines the number of hidden units in this layer. The choice of the number of units depends on the complexity of your problem and the amount of data. You can experiment with different values to find the best one.\n",
    "\n",
    "3. **Repeat Vector Layer**: This layer repeats the encoded vector to match the sequence length of the output. In your case, it repeats the encoder's output sequence to match the expected sequence length of the decoder.\n",
    "\n",
    "4. **Bidirectional GRU Decoder Layer**: This layer decodes the repeated vector into an output sequence. It also uses a Bidirectional GRU for enhanced modeling capabilities. Like the encoder, the number of `units` can be adjusted to find the best fit for your problem.\n",
    "\n",
    "5. **TimeDistributed Dense Layer**: This layer applies a Dense layer to each time step of the sequence. The activation function is set to 'linear', which makes it suitable for regression tasks, such as predicting numerical values.\n",
    "\n",
    "Your model architecture seems well-suited for your task. However, the effectiveness of the model depends on the specifics of your data, the problem you're solving, and the quality of the data. You may need to experiment with different hyperparameters, such as the number of units in the GRU layers, the number of layers, and the architecture of the model.\n",
    "\n",
    "If you have additional features like mass, you can include them as additional input features in the input data. Your model can handle multiple input features. Be sure to preprocess and normalize all the input data consistently. Also, consider monitoring the training process and validating the model's performance to ensure it's learning the mapping effectively."
   ]
  },
  {
   "cell_type": "code",
   "execution_count": 28,
   "metadata": {},
   "outputs": [],
   "source": [
    "##### Step 3 - Specify the structure of a Neural Network\n",
    "model = Sequential(name=\"GRU-Model\") # Model\n",
    "model.add(Input(shape=(X_train.shape[1],X_train.shape[2]), name='Input-Layer')) # Input Layer - need to speicfy the shape of inputs\n",
    "model.add(Bidirectional(GRU(units=32, activation='tanh', recurrent_activation='sigmoid', stateful=False), name='Hidden-GRU-Encoder-Layer')) # Encoder Layer\n",
    "model.add(RepeatVector(X_train.shape[1], name='Repeat-Vector-Layer')) # Repeat Vector\n",
    "model.add(Bidirectional(GRU(units=32, activation='tanh', recurrent_activation='sigmoid', stateful=False, return_sequences=True), name='Hidden-GRU-Decoder-Layer')) # Decoder Layer\n",
    "model.add(TimeDistributed(Dense(units=1, activation='linear'), name='Output-Layer')) # Output Layer, Linear(x) = x"
   ]
  },
  {
   "cell_type": "markdown",
   "metadata": {},
   "source": [
    "The model compilation seems reasonable for your problem. Here's a breakdown of the compilation settings:\n",
    "\n",
    "1. **Optimizer**: You've chosen 'adam' as the optimizer. Adam is a popular and effective optimizer for training neural networks. It's known for its adaptive learning rate and tends to work well in a wide range of tasks. However, the choice of the optimizer can also depend on your specific problem and dataset. It's often a good starting point.\n",
    "\n",
    "2. **Loss Function**: You've chosen 'mean_squared_error' as the loss function. This is a suitable choice for regression tasks, where the goal is to predict numerical values. It measures the mean of the squared differences between the predicted and actual values. The choice of loss function aligns with your problem of mapping kinematic data to EIM data.\n",
    "\n",
    "3. **Metrics**: You've selected 'MeanSquaredError' and 'MeanAbsoluteError' as metrics. These are relevant metrics for regression tasks, helping you evaluate how well your model's predictions match the actual data. 'MeanSquaredError' measures the average of the squared differences, while 'MeanAbsoluteError' measures the average of the absolute differences.\n",
    "\n",
    "4. **Loss Weights**: You've left this as `None`. Loss weights can be useful when you have multiple outputs with different importance levels. If your model has only one output (e.g., predicting EIM data), this isn't needed. If you have multiple outputs with varying importance, you might consider using loss weights.\n",
    "\n",
    "5. **Weighted Metrics**: This is set to `None`. Weighted metrics are useful when different samples or classes in your data have varying importance. If you don't have specific weighting requirements, you can leave this as is.\n",
    "\n",
    "6. **Run Eagerly**: It's set to `None`, which means it uses the default behavior. TensorFlow can compile models to a more efficient format using tf.function, but it might be necessary to disable this for some custom model logic. Leaving it as `None` is usually fine unless you run into specific issues that require disabling tf.function.\n",
    "\n",
    "7. **Steps per Execution**: This parameter can affect performance on certain hardware, but its default value is `1`, which is suitable for most cases. It determines how many batches to run in each tf.function call. You can experiment with different values if you're optimizing for performance on specific hardware, but for general use, the default value should work.\n",
    "\n",
    "Overall, the model compilation settings appear appropriate for your problem. However, model training and evaluation will provide better insights into its performance. You can experiment with different optimizers, loss functions, and metrics during the model's training to fine-tune its performance based on your dataset and specific requirements."
   ]
  },
  {
   "cell_type": "code",
   "execution_count": 29,
   "metadata": {},
   "outputs": [],
   "source": [
    "##### Step 4 - Compile the model\n",
    "model.compile(optimizer='adam', # default='rmsprop', an algorithm to be used in backpropagation\n",
    "              loss='mean_squared_error', # Loss function to be optimized. A string (name of loss function), or a tf.keras.losses.Loss instance.\n",
    "              metrics=['MeanSquaredError', 'MeanAbsoluteError'], # List of metrics to be evaluated by the model during training and testing. Each of this can be a string (name of a built-in function), function or a tf.keras.metrics.Metric instance.\n",
    "              loss_weights=None, # default=None, Optional list or dictionary specifying scalar coefficients (Python floats) to weight the loss contributions of different model outputs.\n",
    "              weighted_metrics=None, # default=None, List of metrics to be evaluated and weighted by sample_weight or class_weight during training and testing.\n",
    "              run_eagerly=None, # Defaults to False. If True, this Model's logic will not be wrapped in a tf.function. Recommended to leave this as None unless your Model cannot be run inside a tf.function.\n",
    "              steps_per_execution=None # Defaults to 1. The number of batches to run during each tf.function call. Running multiple batches inside a single tf.function call can greatly improve performance on TPUs or small models with a large Python overhead.\n",
    "             )"
   ]
  },
  {
   "cell_type": "markdown",
   "metadata": {},
   "source": [
    "The parameters used in your model fit seem reasonable, but a few considerations and potential adjustments are worth noting:\n",
    "\n",
    "1. **Batch Size**: You've set `batch_size=1`, which means you're using a batch size of 1 sample per gradient update. This can be very slow, especially if you have a large dataset. Larger batch sizes (e.g., 16, 32, or even larger) are often used to take advantage of parallel processing and speed up training. Smaller batch sizes may be suitable if you have memory constraints.\n",
    "\n",
    "2. **Validation Split**: You've set `validation_split=0.2`, which allocates 20% of your training data for validation. This is a common practice, but you also have the option to provide explicit validation data using `validation_data=(X_test, Y_test)`. Providing explicit validation data can be helpful if you want to monitor the model's performance on a specific dataset.\n",
    "\n",
    "3. **Epochs**: You've set `epochs=50`, which determines how many times the model will iterate over the entire training dataset. The number of epochs depends on your problem and dataset. It's a good practice to monitor the model's performance during training and stop when it no longer improves significantly.\n",
    "\n",
    "4. **Callbacks**: You've left `callbacks` as `None`. Callbacks are powerful tools for customizing the training process. Common callbacks include early stopping, model checkpointing, and learning rate scheduling. Depending on your problem, you might want to consider using callbacks to improve training efficiency.\n",
    "\n",
    "5. **Shuffle**: You've set `shuffle=True`, which shuffles the training data before each epoch. This is typically recommended to ensure that the model generalizes well. However, if your data has a temporal sequence (like time series data), shuffling might not be appropriate, and you may want to set `shuffle=False`.\n",
    "\n",
    "6. **Workers and Multiprocessing**: You've set `workers=1` and `use_multiprocessing=True`. These parameters are used for generator-based data input. The number of workers can be increased to parallelize data loading if you're working with large datasets. The decision to use multiprocessing can depend on your system's capabilities.\n",
    "\n",
    "7. **Initial Epoch**: You've set `initial_epoch=0`, which means training starts from the first epoch. If you want to continue training from a saved model or resume training from a specific point, you can set this to a different value.\n",
    "\n",
    "8. **Validation Frequency**: You've set `validation_freq=10`, which means validation is performed every 10 epochs. This is a good practice to reduce computational overhead. Adjust this based on how frequently you want to validate your model.\n",
    "\n",
    "The fit parameters you've provided are a good starting point. However, you may need to fine-tune some of these settings based on your specific problem and the behavior of your model during training. It's also a good practice to monitor training and validation metrics to ensure that the model is learning effectively."
   ]
  },
  {
   "cell_type": "code",
   "execution_count": 30,
   "metadata": {},
   "outputs": [
    {
     "name": "stdout",
     "output_type": "stream",
     "text": [
      "Epoch 1/50\n",
      "815/815 [==============================] - 40s 22ms/step - loss: 0.0066 - mean_squared_error: 0.0066 - mean_absolute_error: 0.0505\n",
      "Epoch 2/50\n",
      "815/815 [==============================] - 20s 24ms/step - loss: 0.0048 - mean_squared_error: 0.0048 - mean_absolute_error: 0.0410\n",
      "Epoch 3/50\n",
      "815/815 [==============================] - 20s 25ms/step - loss: 0.0046 - mean_squared_error: 0.0046 - mean_absolute_error: 0.0397\n",
      "Epoch 4/50\n",
      "815/815 [==============================] - 20s 25ms/step - loss: 0.0046 - mean_squared_error: 0.0046 - mean_absolute_error: 0.0395\n",
      "Epoch 5/50\n",
      "815/815 [==============================] - 20s 25ms/step - loss: 0.0045 - mean_squared_error: 0.0045 - mean_absolute_error: 0.0387\n",
      "Epoch 6/50\n",
      "815/815 [==============================] - 20s 25ms/step - loss: 0.0045 - mean_squared_error: 0.0045 - mean_absolute_error: 0.0385\n",
      "Epoch 7/50\n",
      "815/815 [==============================] - 20s 25ms/step - loss: 0.0045 - mean_squared_error: 0.0045 - mean_absolute_error: 0.0381\n",
      "Epoch 8/50\n",
      "815/815 [==============================] - 20s 25ms/step - loss: 0.0045 - mean_squared_error: 0.0045 - mean_absolute_error: 0.0378\n",
      "Epoch 9/50\n",
      "815/815 [==============================] - 20s 25ms/step - loss: 0.0044 - mean_squared_error: 0.0044 - mean_absolute_error: 0.0376\n",
      "Epoch 10/50\n",
      "815/815 [==============================] - 25s 31ms/step - loss: 0.0044 - mean_squared_error: 0.0044 - mean_absolute_error: 0.0373 - val_loss: 0.0042 - val_mean_squared_error: 0.0042 - val_mean_absolute_error: 0.0341\n",
      "Epoch 11/50\n",
      "815/815 [==============================] - 21s 25ms/step - loss: 0.0044 - mean_squared_error: 0.0044 - mean_absolute_error: 0.0371\n",
      "Epoch 12/50\n",
      "815/815 [==============================] - 22s 27ms/step - loss: 0.0044 - mean_squared_error: 0.0044 - mean_absolute_error: 0.0369\n",
      "Epoch 13/50\n",
      "815/815 [==============================] - 24s 29ms/step - loss: 0.0044 - mean_squared_error: 0.0044 - mean_absolute_error: 0.0368\n",
      "Epoch 14/50\n",
      "815/815 [==============================] - 24s 29ms/step - loss: 0.0044 - mean_squared_error: 0.0044 - mean_absolute_error: 0.0367\n",
      "Epoch 15/50\n",
      "815/815 [==============================] - 23s 28ms/step - loss: 0.0044 - mean_squared_error: 0.0044 - mean_absolute_error: 0.0366\n",
      "Epoch 16/50\n",
      "815/815 [==============================] - 26s 32ms/step - loss: 0.0044 - mean_squared_error: 0.0044 - mean_absolute_error: 0.0365\n",
      "Epoch 17/50\n",
      "815/815 [==============================] - 26s 31ms/step - loss: 0.0044 - mean_squared_error: 0.0044 - mean_absolute_error: 0.0363\n",
      "Epoch 18/50\n",
      "815/815 [==============================] - 26s 32ms/step - loss: 0.0044 - mean_squared_error: 0.0044 - mean_absolute_error: 0.0363\n",
      "Epoch 19/50\n",
      "815/815 [==============================] - 26s 31ms/step - loss: 0.0043 - mean_squared_error: 0.0043 - mean_absolute_error: 0.0362\n",
      "Epoch 20/50\n",
      "815/815 [==============================] - 27s 33ms/step - loss: 0.0043 - mean_squared_error: 0.0043 - mean_absolute_error: 0.0361 - val_loss: 0.0042 - val_mean_squared_error: 0.0042 - val_mean_absolute_error: 0.0349\n",
      "Epoch 21/50\n",
      "815/815 [==============================] - 25s 31ms/step - loss: 0.0043 - mean_squared_error: 0.0043 - mean_absolute_error: 0.0361\n",
      "Epoch 22/50\n",
      "815/815 [==============================] - 26s 32ms/step - loss: 0.0043 - mean_squared_error: 0.0043 - mean_absolute_error: 0.0360\n",
      "Epoch 23/50\n",
      "815/815 [==============================] - 25s 31ms/step - loss: 0.0043 - mean_squared_error: 0.0043 - mean_absolute_error: 0.0360\n",
      "Epoch 24/50\n",
      "815/815 [==============================] - 26s 31ms/step - loss: 0.0043 - mean_squared_error: 0.0043 - mean_absolute_error: 0.0359\n",
      "Epoch 25/50\n",
      "815/815 [==============================] - 26s 32ms/step - loss: 0.0043 - mean_squared_error: 0.0043 - mean_absolute_error: 0.0359\n",
      "Epoch 26/50\n",
      "815/815 [==============================] - 26s 32ms/step - loss: 0.0043 - mean_squared_error: 0.0043 - mean_absolute_error: 0.0358\n",
      "Epoch 27/50\n",
      "815/815 [==============================] - 26s 31ms/step - loss: 0.0043 - mean_squared_error: 0.0043 - mean_absolute_error: 0.0358\n",
      "Epoch 28/50\n",
      "815/815 [==============================] - 26s 31ms/step - loss: 0.0043 - mean_squared_error: 0.0043 - mean_absolute_error: 0.0357\n",
      "Epoch 29/50\n",
      "815/815 [==============================] - 26s 32ms/step - loss: 0.0043 - mean_squared_error: 0.0043 - mean_absolute_error: 0.0357\n",
      "Epoch 30/50\n",
      "815/815 [==============================] - 28s 34ms/step - loss: 0.0043 - mean_squared_error: 0.0043 - mean_absolute_error: 0.0357 - val_loss: 0.0041 - val_mean_squared_error: 0.0041 - val_mean_absolute_error: 0.0349\n",
      "Epoch 31/50\n",
      "815/815 [==============================] - 26s 32ms/step - loss: 0.0043 - mean_squared_error: 0.0043 - mean_absolute_error: 0.0356\n",
      "Epoch 32/50\n",
      "815/815 [==============================] - 26s 32ms/step - loss: 0.0043 - mean_squared_error: 0.0043 - mean_absolute_error: 0.0356\n",
      "Epoch 33/50\n",
      "815/815 [==============================] - 26s 32ms/step - loss: 0.0043 - mean_squared_error: 0.0043 - mean_absolute_error: 0.0356\n",
      "Epoch 34/50\n",
      "815/815 [==============================] - 26s 32ms/step - loss: 0.0043 - mean_squared_error: 0.0043 - mean_absolute_error: 0.0356\n",
      "Epoch 35/50\n",
      "815/815 [==============================] - 26s 32ms/step - loss: 0.0043 - mean_squared_error: 0.0043 - mean_absolute_error: 0.0356\n",
      "Epoch 36/50\n",
      "815/815 [==============================] - 25s 31ms/step - loss: 0.0043 - mean_squared_error: 0.0043 - mean_absolute_error: 0.0356\n",
      "Epoch 37/50\n",
      "815/815 [==============================] - 26s 32ms/step - loss: 0.0043 - mean_squared_error: 0.0043 - mean_absolute_error: 0.0356\n",
      "Epoch 38/50\n",
      "815/815 [==============================] - 26s 32ms/step - loss: 0.0043 - mean_squared_error: 0.0043 - mean_absolute_error: 0.0355\n",
      "Epoch 39/50\n",
      "815/815 [==============================] - 26s 32ms/step - loss: 0.0043 - mean_squared_error: 0.0043 - mean_absolute_error: 0.0355\n",
      "Epoch 40/50\n",
      "815/815 [==============================] - 28s 34ms/step - loss: 0.0043 - mean_squared_error: 0.0043 - mean_absolute_error: 0.0355 - val_loss: 0.0041 - val_mean_squared_error: 0.0041 - val_mean_absolute_error: 0.0350\n",
      "Epoch 41/50\n",
      "815/815 [==============================] - 26s 32ms/step - loss: 0.0043 - mean_squared_error: 0.0043 - mean_absolute_error: 0.0355\n",
      "Epoch 42/50\n",
      "815/815 [==============================] - 23s 29ms/step - loss: 0.0043 - mean_squared_error: 0.0043 - mean_absolute_error: 0.0354\n",
      "Epoch 43/50\n",
      "815/815 [==============================] - 23s 28ms/step - loss: 0.0043 - mean_squared_error: 0.0043 - mean_absolute_error: 0.0354\n",
      "Epoch 44/50\n",
      "815/815 [==============================] - 23s 28ms/step - loss: 0.0043 - mean_squared_error: 0.0043 - mean_absolute_error: 0.0354\n",
      "Epoch 45/50\n",
      "815/815 [==============================] - 22s 27ms/step - loss: 0.0043 - mean_squared_error: 0.0043 - mean_absolute_error: 0.0354\n",
      "Epoch 46/50\n",
      "815/815 [==============================] - 22s 27ms/step - loss: 0.0043 - mean_squared_error: 0.0043 - mean_absolute_error: 0.0353\n",
      "Epoch 47/50\n",
      "815/815 [==============================] - 22s 26ms/step - loss: 0.0043 - mean_squared_error: 0.0043 - mean_absolute_error: 0.0353\n",
      "Epoch 48/50\n",
      "815/815 [==============================] - 22s 27ms/step - loss: 0.0043 - mean_squared_error: 0.0043 - mean_absolute_error: 0.0353\n",
      "Epoch 49/50\n",
      "815/815 [==============================] - 22s 26ms/step - loss: 0.0043 - mean_squared_error: 0.0043 - mean_absolute_error: 0.0353\n",
      "Epoch 50/50\n",
      "815/815 [==============================] - 24s 29ms/step - loss: 0.0043 - mean_squared_error: 0.0043 - mean_absolute_error: 0.0353 - val_loss: 0.0041 - val_mean_squared_error: 0.0041 - val_mean_absolute_error: 0.0328\n"
     ]
    }
   ],
   "source": [
    "##### Step 5 - Fit the model on the dataset\n",
    "history = model.fit(X_train, # input data\n",
    "                    Y_train, # target data\n",
    "                    batch_size=32, # Number of samples per gradient update. If unspecified, batch_size will default to 32.\n",
    "                    epochs=50, # default=1, Number of epochs to train the model. An epoch is an iteration over the entire x and y data provided\n",
    "                    verbose=1, # default='auto', ('auto', 0, 1, or 2). Verbosity mode. 0 = silent, 1 = progress bar, 2 = one line per epoch. 'auto' defaults to 1 for most cases, but 2 when used with ParameterServerStrategy.\n",
    "                    callbacks=None, # default=None, list of callbacks to apply during training. See tf.keras.callbacks\n",
    "                    # validation_split=0.2, # default=0.0, Fraction of the training data to be used as validation data. The model will set apart this fraction of the training data, will not train on it, and will evaluate the loss and any model metrics on this data at the end of each epoch.\n",
    "                    validation_data=(X_eval, Y_eval), # default=None, Data on which to evaluate the loss and any model metrics at the end of each epoch.\n",
    "                    shuffle=False, # default=True, Boolean (whether to shuffle the training data before each epoch) or str (for 'batch').\n",
    "                    class_weight=None, # default=None, Optional dictionary mapping class indices (integers) to a weight (float) value, used for weighting the loss function (during training only). This can be useful to tell the model to \"pay more attention\" to samples from an under-represented class.\n",
    "                    sample_weight=None, # default=None, Optional Numpy array of weights for the training samples, used for weighting the loss function (during training only).\n",
    "                    initial_epoch=0, # Integer, default=0, Epoch at which to start training (useful for resuming a previous training run).\n",
    "                    steps_per_epoch=None, # Integer or None, default=None, Total number of steps (batches of samples) before declaring one epoch finished and starting the next epoch. When training with input tensors such as TensorFlow data tensors, the default None is equal to the number of samples in your dataset divided by the batch size, or 1 if that cannot be determined.\n",
    "                    validation_steps=None, # Only relevant if validation_data is provided and is a tf.data dataset. Total number of steps (batches of samples) to draw before stopping when performing validation at the end of every epoch.\n",
    "                    validation_batch_size=None, # Integer or None, default=None, Number of samples per validation batch. If unspecified, will default to batch_size.\n",
    "                    validation_freq=10, # default=1, Only relevant if validation data is provided. If an integer, specifies how many training epochs to run before a new validation run is performed, e.g. validation_freq=2 runs validation every 2 epochs.\n",
    "                    max_queue_size=10, # default=10, Used for generator or keras.utils.Sequence input only. Maximum size for the generator queue. If unspecified, max_queue_size will default to 10.\n",
    "                    workers=1, # default=1, Used for generator or keras.utils.Sequence input only. Maximum number of processes to spin up when using process-based threading. If unspecified, workers will default to 1.\n",
    "                    use_multiprocessing=True, # default=False, Used for generator or keras.utils.Sequence input only. If True, use process-based threading. If unspecified, use_multiprocessing will default to False.\n",
    "                   )"
   ]
  },
  {
   "cell_type": "code",
   "execution_count": 31,
   "metadata": {},
   "outputs": [
    {
     "name": "stdout",
     "output_type": "stream",
     "text": [
      "58/58 [==============================] - 5s 8ms/step\n",
      "\n",
      "-------------------- Model Summary --------------------\n",
      "Model: \"GRU-Model\"\n",
      "_________________________________________________________________\n",
      " Layer (type)                Output Shape              Param #   \n",
      "=================================================================\n",
      " Hidden-GRU-Encoder-Layer (  (None, 64)                6720      \n",
      " Bidirectional)                                                  \n",
      "                                                                 \n",
      " Repeat-Vector-Layer (Repea  (None, 20, 64)            0         \n",
      " tVector)                                                        \n",
      "                                                                 \n",
      " Hidden-GRU-Decoder-Layer (  (None, 20, 64)            18816     \n",
      " Bidirectional)                                                  \n",
      "                                                                 \n",
      " Output-Layer (TimeDistribu  (None, 20, 1)             65        \n",
      " ted)                                                            \n",
      "                                                                 \n",
      "=================================================================\n",
      "Total params: 25601 (100.00 KB)\n",
      "Trainable params: 25601 (100.00 KB)\n",
      "Non-trainable params: 0 (0.00 Byte)\n",
      "_________________________________________________________________\n",
      "\n",
      "-------------------- Weights and Biases --------------------\n",
      "Too many parameters to print but you can use the code provided if needed\n",
      "\n",
      "-------------------- Evaluation on Training Data --------------------\n",
      "Final loss : 0.00430758623406291\n",
      "Final mean_squared_error : 0.00430758623406291\n",
      "Final mean_absolute_error : 0.035314854234457016\n",
      "Final val_loss : 0.004117641597986221\n",
      "Final val_mean_squared_error : 0.004117643926292658\n",
      "Final val_mean_absolute_error : 0.032802920788526535\n",
      "\n",
      "-------------------- Evaluation on Test Data --------------------\n",
      "58/58 [==============================] - 7s 8ms/step - loss: 0.0042 - mean_squared_error: 0.0042 - mean_absolute_error: 0.0335\n",
      "\n"
     ]
    }
   ],
   "source": [
    "##### Step 6 - Use model to make predictions\n",
    "# Predict results on training data\n",
    "#pred_train = model.predict(X_train)\n",
    "# Predict results on test data\n",
    "pred_test = model.predict(X_test)\n",
    "\n",
    "\n",
    "##### Step 7 - Print Performance Summary\n",
    "print(\"\")\n",
    "print('-------------------- Model Summary --------------------')\n",
    "model.summary() # print model summary\n",
    "print(\"\")\n",
    "print('-------------------- Weights and Biases --------------------')\n",
    "print(\"Too many parameters to print but you can use the code provided if needed\")\n",
    "print(\"\")\n",
    "#for layer in model.layers:\n",
    "#    print(layer.name)\n",
    "#    for item in layer.get_weights():\n",
    "#        print(\"  \", item)\n",
    "#print(\"\")\n",
    "\n",
    "# Print the last value in the evaluation metrics contained within history file\n",
    "print('-------------------- Evaluation on Training Data --------------------')\n",
    "for item in history.history:\n",
    "    print(\"Final\", item, \":\", history.history[item][-1])\n",
    "print(\"\")\n",
    "\n",
    "# Evaluate the model on the test data using \"evaluate\"\n",
    "print('-------------------- Evaluation on Test Data --------------------')\n",
    "results = model.evaluate(X_test, Y_test)\n",
    "print(\"\")"
   ]
  },
  {
   "cell_type": "code",
   "execution_count": 32,
   "metadata": {},
   "outputs": [
    {
     "name": "stdout",
     "output_type": "stream",
     "text": [
      "58/58 [==============================] - 0s 7ms/step\n"
     ]
    },
    {
     "data": {
      "application/vnd.plotly.v1+json": {
       "config": {
        "plotlyServerURL": "https://plot.ly"
       },
       "data": [
        {
         "line": {
          "width": 1
         },
         "mode": "lines",
         "name": "Sample 1 - Actual",
         "opacity": 0.8,
         "type": "scatter",
         "x": [
          0,
          1,
          2,
          3,
          4,
          5,
          6,
          7,
          8,
          9,
          10,
          11,
          12,
          13,
          14,
          15,
          16,
          17,
          18,
          19
         ],
         "y": [
          0.14732400000000057,
          0.15777000000000221,
          0.17903900000000053,
          0.12800500000000115,
          0.08946960000000002,
          0.14729200000000092,
          0.13068300000000174,
          0.1274000000000012,
          0.2793649999999979,
          0.17155900000000118,
          0.4954720000000016,
          0.1520690000000006,
          0.17549600000000046,
          0.504391,
          0.14222699999999952,
          0.16844900000000054,
          0.31300000000000094,
          0.12492299999999763,
          0.16588199999999928,
          0.1904590000000023
         ]
        },
        {
         "line": {
          "width": 1
         },
         "mode": "lines",
         "name": "Sample 2 - Actual",
         "opacity": 0.8,
         "type": "scatter",
         "x": [
          0,
          1,
          2,
          3,
          4,
          5,
          6,
          7,
          8,
          9,
          10,
          11,
          12,
          13,
          14,
          15,
          16,
          17,
          18,
          19
         ],
         "y": [
          0.15777000000000221,
          0.17903900000000053,
          0.12800500000000115,
          0.08946960000000002,
          0.14729200000000092,
          0.13068300000000174,
          0.1274000000000012,
          0.2793649999999979,
          0.17155900000000118,
          0.4954720000000016,
          0.1520690000000006,
          0.17549600000000046,
          0.504391,
          0.14222699999999952,
          0.16844900000000054,
          0.31300000000000094,
          0.12492299999999763,
          0.16588199999999928,
          0.1904590000000023,
          0.38372100000000053
         ]
        },
        {
         "line": {
          "width": 1
         },
         "mode": "lines",
         "name": "Sample 3 - Actual",
         "opacity": 0.8,
         "type": "scatter",
         "x": [
          0,
          1,
          2,
          3,
          4,
          5,
          6,
          7,
          8,
          9,
          10,
          11,
          12,
          13,
          14,
          15,
          16,
          17,
          18,
          19
         ],
         "y": [
          0.17903900000000053,
          0.12800500000000115,
          0.08946960000000002,
          0.14729200000000092,
          0.13068300000000174,
          0.1274000000000012,
          0.2793649999999979,
          0.17155900000000118,
          0.4954720000000016,
          0.1520690000000006,
          0.17549600000000046,
          0.504391,
          0.14222699999999952,
          0.16844900000000054,
          0.31300000000000094,
          0.12492299999999763,
          0.16588199999999928,
          0.1904590000000023,
          0.38372100000000053,
          0.15701900000000016
         ]
        },
        {
         "line": {
          "width": 1
         },
         "mode": "lines",
         "name": "Sample 4 - Actual",
         "opacity": 0.8,
         "type": "scatter",
         "x": [
          0,
          1,
          2,
          3,
          4,
          5,
          6,
          7,
          8,
          9,
          10,
          11,
          12,
          13,
          14,
          15,
          16,
          17,
          18,
          19
         ],
         "y": [
          0.12800500000000115,
          0.08946960000000002,
          0.14729200000000092,
          0.13068300000000174,
          0.1274000000000012,
          0.2793649999999979,
          0.17155900000000118,
          0.4954720000000016,
          0.1520690000000006,
          0.17549600000000046,
          0.504391,
          0.14222699999999952,
          0.16844900000000054,
          0.31300000000000094,
          0.12492299999999763,
          0.16588199999999928,
          0.1904590000000023,
          0.38372100000000053,
          0.15701900000000016,
          0.1021479999999978
         ]
        },
        {
         "line": {
          "width": 1
         },
         "mode": "lines",
         "name": "Sample 5 - Actual",
         "opacity": 0.8,
         "type": "scatter",
         "x": [
          0,
          1,
          2,
          3,
          4,
          5,
          6,
          7,
          8,
          9,
          10,
          11,
          12,
          13,
          14,
          15,
          16,
          17,
          18,
          19
         ],
         "y": [
          0.08946960000000002,
          0.14729200000000092,
          0.13068300000000174,
          0.1274000000000012,
          0.2793649999999979,
          0.17155900000000118,
          0.4954720000000016,
          0.1520690000000006,
          0.17549600000000046,
          0.504391,
          0.14222699999999952,
          0.16844900000000054,
          0.31300000000000094,
          0.12492299999999763,
          0.16588199999999928,
          0.1904590000000023,
          0.38372100000000053,
          0.15701900000000016,
          0.1021479999999978,
          0.16040200000000207
         ]
        },
        {
         "line": {
          "width": 1
         },
         "mode": "lines",
         "name": "Sample 6 - Actual",
         "opacity": 0.8,
         "type": "scatter",
         "x": [
          0,
          1,
          2,
          3,
          4,
          5,
          6,
          7,
          8,
          9,
          10,
          11,
          12,
          13,
          14,
          15,
          16,
          17,
          18,
          19
         ],
         "y": [
          0.14729200000000092,
          0.13068300000000174,
          0.1274000000000012,
          0.2793649999999979,
          0.17155900000000118,
          0.4954720000000016,
          0.1520690000000006,
          0.17549600000000046,
          0.504391,
          0.14222699999999952,
          0.16844900000000054,
          0.31300000000000094,
          0.12492299999999763,
          0.16588199999999928,
          0.1904590000000023,
          0.38372100000000053,
          0.15701900000000016,
          0.1021479999999978,
          0.16040200000000207,
          0.46396599999999855
         ]
        },
        {
         "line": {
          "width": 1
         },
         "mode": "lines",
         "name": "Sample 7 - Actual",
         "opacity": 0.8,
         "type": "scatter",
         "x": [
          0,
          1,
          2,
          3,
          4,
          5,
          6,
          7,
          8,
          9,
          10,
          11,
          12,
          13,
          14,
          15,
          16,
          17,
          18,
          19
         ],
         "y": [
          0.13068300000000174,
          0.1274000000000012,
          0.2793649999999979,
          0.17155900000000118,
          0.4954720000000016,
          0.1520690000000006,
          0.17549600000000046,
          0.504391,
          0.14222699999999952,
          0.16844900000000054,
          0.31300000000000094,
          0.12492299999999763,
          0.16588199999999928,
          0.1904590000000023,
          0.38372100000000053,
          0.15701900000000016,
          0.1021479999999978,
          0.16040200000000207,
          0.46396599999999855,
          0.15545400000000123
         ]
        },
        {
         "line": {
          "width": 1
         },
         "mode": "lines",
         "name": "Sample 8 - Actual",
         "opacity": 0.8,
         "type": "scatter",
         "x": [
          0,
          1,
          2,
          3,
          4,
          5,
          6,
          7,
          8,
          9,
          10,
          11,
          12,
          13,
          14,
          15,
          16,
          17,
          18,
          19
         ],
         "y": [
          0.1274000000000012,
          0.2793649999999979,
          0.17155900000000118,
          0.4954720000000016,
          0.1520690000000006,
          0.17549600000000046,
          0.504391,
          0.14222699999999952,
          0.16844900000000054,
          0.31300000000000094,
          0.12492299999999763,
          0.16588199999999928,
          0.1904590000000023,
          0.38372100000000053,
          0.15701900000000016,
          0.1021479999999978,
          0.16040200000000207,
          0.46396599999999855,
          0.15545400000000123,
          0.0775564000000012
         ]
        },
        {
         "line": {
          "width": 1
         },
         "mode": "lines",
         "name": "Sample 9 - Actual",
         "opacity": 0.8,
         "type": "scatter",
         "x": [
          0,
          1,
          2,
          3,
          4,
          5,
          6,
          7,
          8,
          9,
          10,
          11,
          12,
          13,
          14,
          15,
          16,
          17,
          18,
          19
         ],
         "y": [
          0.2793649999999979,
          0.17155900000000118,
          0.4954720000000016,
          0.1520690000000006,
          0.17549600000000046,
          0.504391,
          0.14222699999999952,
          0.16844900000000054,
          0.31300000000000094,
          0.12492299999999763,
          0.16588199999999928,
          0.1904590000000023,
          0.38372100000000053,
          0.15701900000000016,
          0.1021479999999978,
          0.16040200000000207,
          0.46396599999999855,
          0.15545400000000123,
          0.0775564000000012,
          0.09448799999999802
         ]
        },
        {
         "line": {
          "width": 1
         },
         "mode": "lines",
         "name": "Sample 10 - Actual",
         "opacity": 0.8,
         "type": "scatter",
         "x": [
          0,
          1,
          2,
          3,
          4,
          5,
          6,
          7,
          8,
          9,
          10,
          11,
          12,
          13,
          14,
          15,
          16,
          17,
          18,
          19
         ],
         "y": [
          0.17155900000000118,
          0.4954720000000016,
          0.1520690000000006,
          0.17549600000000046,
          0.504391,
          0.14222699999999952,
          0.16844900000000054,
          0.31300000000000094,
          0.12492299999999763,
          0.16588199999999928,
          0.1904590000000023,
          0.38372100000000053,
          0.15701900000000016,
          0.1021479999999978,
          0.16040200000000207,
          0.46396599999999855,
          0.15545400000000123,
          0.0775564000000012,
          0.09448799999999802,
          0.5045419999999989
         ]
        },
        {
         "line": {
          "width": 1
         },
         "mode": "lines",
         "name": "Sample 11 - Actual",
         "opacity": 0.8,
         "type": "scatter",
         "x": [
          0,
          1,
          2,
          3,
          4,
          5,
          6,
          7,
          8,
          9,
          10,
          11,
          12,
          13,
          14,
          15,
          16,
          17,
          18,
          19
         ],
         "y": [
          0.4954720000000016,
          0.1520690000000006,
          0.17549600000000046,
          0.504391,
          0.14222699999999952,
          0.16844900000000054,
          0.31300000000000094,
          0.12492299999999763,
          0.16588199999999928,
          0.1904590000000023,
          0.38372100000000053,
          0.15701900000000016,
          0.1021479999999978,
          0.16040200000000207,
          0.46396599999999855,
          0.15545400000000123,
          0.0775564000000012,
          0.09448799999999802,
          0.5045419999999989,
          0.12303000000000253
         ]
        },
        {
         "line": {
          "width": 1
         },
         "mode": "lines",
         "name": "Sample 12 - Actual",
         "opacity": 0.8,
         "type": "scatter",
         "x": [
          0,
          1,
          2,
          3,
          4,
          5,
          6,
          7,
          8,
          9,
          10,
          11,
          12,
          13,
          14,
          15,
          16,
          17,
          18,
          19
         ],
         "y": [
          0.1520690000000006,
          0.17549600000000046,
          0.504391,
          0.14222699999999952,
          0.16844900000000054,
          0.31300000000000094,
          0.12492299999999763,
          0.16588199999999928,
          0.1904590000000023,
          0.38372100000000053,
          0.15701900000000016,
          0.1021479999999978,
          0.16040200000000207,
          0.46396599999999855,
          0.15545400000000123,
          0.0775564000000012,
          0.09448799999999802,
          0.5045419999999989,
          0.12303000000000253,
          0.463208000000001
         ]
        },
        {
         "line": {
          "dash": "dot",
          "width": 2
         },
         "mode": "lines",
         "name": "Sample 1 - Predicted",
         "opacity": 1,
         "type": "scatter",
         "x": [
          0,
          1,
          2,
          3,
          4,
          5,
          6,
          7,
          8,
          9,
          10,
          11,
          12,
          13,
          14,
          15,
          16,
          17,
          18,
          19
         ],
         "y": [
          0.0446137860417366,
          0.017242006957530975,
          0.00911109708249569,
          0.013421162962913513,
          0.01820405013859272,
          0.022899478673934937,
          0.027578508481383324,
          0.0322684720158577,
          0.03695296868681908,
          0.041599202901124954,
          0.04615797847509384,
          0.05056370049715042,
          0.054696112871170044,
          0.05840763449668884,
          0.061572540551424026,
          0.06428375095129013,
          0.06737759709358215,
          0.07339584082365036,
          0.08768164366483688,
          0.10229268670082092
         ]
        },
        {
         "line": {
          "dash": "dot",
          "width": 2
         },
         "mode": "lines",
         "name": "Sample 2 - Predicted",
         "opacity": 1,
         "type": "scatter",
         "x": [
          0,
          1,
          2,
          3,
          4,
          5,
          6,
          7,
          8,
          9,
          10,
          11,
          12,
          13,
          14,
          15,
          16,
          17,
          18,
          19
         ],
         "y": [
          0.048784464597702026,
          0.02044517546892166,
          0.012150281108915806,
          0.0163838192820549,
          0.021114779636263847,
          0.025780143216252327,
          0.03043730929493904,
          0.03510540723800659,
          0.03977350518107414,
          0.04440334066748619,
          0.04895118251442909,
          0.05333777517080307,
          0.05745105817914009,
          0.061132512986660004,
          0.06425642222166061,
          0.06691844016313553,
          0.0699302926659584,
          0.07582827657461166,
          0.08991456776857376,
          0.10418670624494553
         ]
        },
        {
         "line": {
          "dash": "dot",
          "width": 2
         },
         "mode": "lines",
         "name": "Sample 3 - Predicted",
         "opacity": 1,
         "type": "scatter",
         "x": [
          0,
          1,
          2,
          3,
          4,
          5,
          6,
          7,
          8,
          9,
          10,
          11,
          12,
          13,
          14,
          15,
          16,
          17,
          18,
          19
         ],
         "y": [
          0.054854631423950195,
          0.02524992637336254,
          0.01674732007086277,
          0.020866068080067635,
          0.025528699159622192,
          0.03014213591814041,
          0.034763772040605545,
          0.03940454125404358,
          0.044048041105270386,
          0.048661477863788605,
          0.05319292098283768,
          0.05757131427526474,
          0.061670929193496704,
          0.06534145772457123,
          0.06845442950725555,
          0.0710945874452591,
          0.07409004122018814,
          0.07994702458381653,
          0.09392672777175903,
          0.10935769230127335
         ]
        },
        {
         "line": {
          "dash": "dot",
          "width": 2
         },
         "mode": "lines",
         "name": "Sample 4 - Predicted",
         "opacity": 1,
         "type": "scatter",
         "x": [
          0,
          1,
          2,
          3,
          4,
          5,
          6,
          7,
          8,
          9,
          10,
          11,
          12,
          13,
          14,
          15,
          16,
          17,
          18,
          19
         ],
         "y": [
          0.0538734570145607,
          0.02335316874086857,
          0.0147685706615448,
          0.018868189305067062,
          0.023533552885055542,
          0.028149722144007683,
          0.032785024493932724,
          0.03744492307305336,
          0.04211302101612091,
          0.046753786504268646,
          0.05132349580526352,
          0.055740151554346085,
          0.05988896265625954,
          0.06362234801054001,
          0.06680911779403687,
          0.06955039501190186,
          0.0726715698838234,
          0.0787089467048645,
          0.09292095899581909,
          0.1107761561870575
         ]
        },
        {
         "line": {
          "dash": "dot",
          "width": 2
         },
         "mode": "lines",
         "name": "Sample 5 - Predicted",
         "opacity": 1,
         "type": "scatter",
         "x": [
          0,
          1,
          2,
          3,
          4,
          5,
          6,
          7,
          8,
          9,
          10,
          11,
          12,
          13,
          14,
          15,
          16,
          17,
          18,
          19
         ],
         "y": [
          0.03532405197620392,
          0.006304225418716669,
          -0.0018239503260701895,
          0.0025599077343940735,
          0.007416588254272938,
          0.012191276997327805,
          0.016946833580732346,
          0.021713323891162872,
          0.026474345475435257,
          0.03119710460305214,
          0.03583787381649017,
          0.04033105447888374,
          0.0445563942193985,
          0.04837176948785782,
          0.05165693163871765,
          0.05451573058962822,
          0.05778995901346207,
          0.06404324620962143,
          0.07868161052465439,
          0.0941317081451416
         ]
        },
        {
         "line": {
          "dash": "dot",
          "width": 2
         },
         "mode": "lines",
         "name": "Sample 6 - Predicted",
         "opacity": 1,
         "type": "scatter",
         "x": [
          0,
          1,
          2,
          3,
          4,
          5,
          6,
          7,
          8,
          9,
          10,
          11,
          12,
          13,
          14,
          15,
          16,
          17,
          18,
          19
         ],
         "y": [
          0.041932638734579086,
          0.012486450374126434,
          0.0042489501647651196,
          0.008545350283384323,
          0.01333643775433302,
          0.01805099844932556,
          0.022757358849048615,
          0.027474651113152504,
          0.03218647837638855,
          0.036865510046482086,
          0.041462548077106476,
          0.04590653255581856,
          0.050082676112651825,
          0.05383792892098427,
          0.05705202743411064,
          0.0598151721060276,
          0.06297187507152557,
          0.06905024498701096,
          0.083439901471138,
          0.09810834378004074
         ]
        },
        {
         "line": {
          "dash": "dot",
          "width": 2
         },
         "mode": "lines",
         "name": "Sample 7 - Predicted",
         "opacity": 1,
         "type": "scatter",
         "x": [
          0,
          1,
          2,
          3,
          4,
          5,
          6,
          7,
          8,
          9,
          10,
          11,
          12,
          13,
          14,
          15,
          16,
          17,
          18,
          19
         ],
         "y": [
          0.053848858922719955,
          0.022915877401828766,
          0.014309413731098175,
          0.018387166783213615,
          0.023019732907414436,
          0.027616770938038826,
          0.032230209559202194,
          0.03687097504734993,
          0.041511744260787964,
          0.04613611102104187,
          0.05068668723106384,
          0.05508694425225258,
          0.05922209098935127,
          0.06294181197881699,
          0.0661231130361557,
          0.06885072588920593,
          0.07195823639631271,
          0.07797648012638092,
          0.09218302369117737,
          0.11012022197246552
         ]
        },
        {
         "line": {
          "dash": "dot",
          "width": 2
         },
         "mode": "lines",
         "name": "Sample 8 - Predicted",
         "opacity": 1,
         "type": "scatter",
         "x": [
          0,
          1,
          2,
          3,
          4,
          5,
          6,
          7,
          8,
          9,
          10,
          11,
          12,
          13,
          14,
          15,
          16,
          17,
          18,
          19
         ],
         "y": [
          0.034277282655239105,
          0.00489122373983264,
          -0.0033107451163232327,
          0.0010020530316978693,
          0.005806805100291967,
          0.010529564693570137,
          0.015241392888128757,
          0.019964152947068214,
          0.024686912074685097,
          0.02937687374651432,
          0.03399031236767769,
          0.038456160575151443,
          0.042659636586904526,
          0.046458616852760315,
          0.04972737655043602,
          0.0525752454996109,
          0.05583580955862999,
          0.062075424939394,
          0.07669193297624588,
          0.09362882375717163
         ]
        },
        {
         "line": {
          "dash": "dot",
          "width": 2
         },
         "mode": "lines",
         "name": "Sample 9 - Predicted",
         "opacity": 1,
         "type": "scatter",
         "x": [
          0,
          1,
          2,
          3,
          4,
          5,
          6,
          7,
          8,
          9,
          10,
          11,
          12,
          13,
          14,
          15,
          16,
          17,
          18,
          19
         ],
         "y": [
          0.02809232659637928,
          -0.00010211076005361974,
          -0.00814282801002264,
          -0.003764436114579439,
          0.0010703799780458212,
          0.005812271498143673,
          0.010529564693570137,
          0.015257791616022587,
          0.019969619810581207,
          0.024651382118463516,
          0.029251152649521828,
          0.03369513899087906,
          0.037871282547712326,
          0.04163746535778046,
          0.04486523196101189,
          0.04766117036342621,
          0.05085340514779091,
          0.057008299976587296,
          0.07153734564781189,
          0.08685898035764694
         ]
        },
        {
         "line": {
          "dash": "dot",
          "width": 2
         },
         "mode": "lines",
         "name": "Sample 10 - Predicted",
         "opacity": 1,
         "type": "scatter",
         "x": [
          0,
          1,
          2,
          3,
          4,
          5,
          6,
          7,
          8,
          9,
          10,
          11,
          12,
          13,
          14,
          15,
          16,
          17,
          18,
          19
         ],
         "y": [
          0.03652387484908104,
          0.009510126896202564,
          0.0013737516710534692,
          0.005631888285279274,
          0.010365580208599567,
          0.015006348490715027,
          0.019636183977127075,
          0.02427694946527481,
          0.028901318088173866,
          0.03349015861749649,
          0.037994273006916046,
          0.04233713448047638,
          0.04640122130513191,
          0.05004168301820755,
          0.053119126707315445,
          0.0557292178273201,
          0.058689143508672714,
          0.06452973186969757,
          0.07857228815555573,
          0.09330905228853226
         ]
        },
        {
         "line": {
          "dash": "dot",
          "width": 2
         },
         "mode": "lines",
         "name": "Sample 11 - Predicted",
         "opacity": 1,
         "type": "scatter",
         "x": [
          0,
          1,
          2,
          3,
          4,
          5,
          6,
          7,
          8,
          9,
          10,
          11,
          12,
          13,
          14,
          15,
          16,
          17,
          18,
          19
         ],
         "y": [
          0.03191317245364189,
          0.004445732105523348,
          -0.00382456392981112,
          0.0003734449273906648,
          0.005074339918792248,
          0.009706907905638218,
          0.014331278391182423,
          0.018963845446705818,
          0.02359641343355179,
          0.028187984600663185,
          0.03269483149051666,
          0.03704589232802391,
          0.04112091287970543,
          0.04476410523056984,
          0.047847017645835876,
          0.0504598431289196,
          0.05342249944806099,
          0.059257622808218,
          0.07324004918336868,
          0.0896029993891716
         ]
        },
        {
         "line": {
          "dash": "dot",
          "width": 2
         },
         "mode": "lines",
         "name": "Sample 12 - Predicted",
         "opacity": 1,
         "type": "scatter",
         "x": [
          0,
          1,
          2,
          3,
          4,
          5,
          6,
          7,
          8,
          9,
          10,
          11,
          12,
          13,
          14,
          15,
          16,
          17,
          18,
          19
         ],
         "y": [
          0.02356634847819805,
          0.0003324487479403615,
          -0.007489622104912996,
          -0.003100298112258315,
          0.0017071872716769576,
          0.006397149991244078,
          0.011054315604269505,
          0.015697816386818886,
          0.02031945250928402,
          0.02488369308412075,
          0.029355010017752647,
          0.033651407808065414,
          0.03765810281038284,
          0.04121110588312149,
          0.04419016093015671,
          0.0466717965900898,
          0.049475934356451035,
          0.055117007344961166,
          0.0688917264342308,
          0.08110585063695908
         ]
        }
       ],
       "layout": {
        "plot_bgcolor": "white",
        "template": {
         "data": {
          "bar": [
           {
            "error_x": {
             "color": "#2a3f5f"
            },
            "error_y": {
             "color": "#2a3f5f"
            },
            "marker": {
             "line": {
              "color": "#E5ECF6",
              "width": 0.5
             },
             "pattern": {
              "fillmode": "overlay",
              "size": 10,
              "solidity": 0.2
             }
            },
            "type": "bar"
           }
          ],
          "barpolar": [
           {
            "marker": {
             "line": {
              "color": "#E5ECF6",
              "width": 0.5
             },
             "pattern": {
              "fillmode": "overlay",
              "size": 10,
              "solidity": 0.2
             }
            },
            "type": "barpolar"
           }
          ],
          "carpet": [
           {
            "aaxis": {
             "endlinecolor": "#2a3f5f",
             "gridcolor": "white",
             "linecolor": "white",
             "minorgridcolor": "white",
             "startlinecolor": "#2a3f5f"
            },
            "baxis": {
             "endlinecolor": "#2a3f5f",
             "gridcolor": "white",
             "linecolor": "white",
             "minorgridcolor": "white",
             "startlinecolor": "#2a3f5f"
            },
            "type": "carpet"
           }
          ],
          "choropleth": [
           {
            "colorbar": {
             "outlinewidth": 0,
             "ticks": ""
            },
            "type": "choropleth"
           }
          ],
          "contour": [
           {
            "colorbar": {
             "outlinewidth": 0,
             "ticks": ""
            },
            "colorscale": [
             [
              0,
              "#0d0887"
             ],
             [
              0.1111111111111111,
              "#46039f"
             ],
             [
              0.2222222222222222,
              "#7201a8"
             ],
             [
              0.3333333333333333,
              "#9c179e"
             ],
             [
              0.4444444444444444,
              "#bd3786"
             ],
             [
              0.5555555555555556,
              "#d8576b"
             ],
             [
              0.6666666666666666,
              "#ed7953"
             ],
             [
              0.7777777777777778,
              "#fb9f3a"
             ],
             [
              0.8888888888888888,
              "#fdca26"
             ],
             [
              1,
              "#f0f921"
             ]
            ],
            "type": "contour"
           }
          ],
          "contourcarpet": [
           {
            "colorbar": {
             "outlinewidth": 0,
             "ticks": ""
            },
            "type": "contourcarpet"
           }
          ],
          "heatmap": [
           {
            "colorbar": {
             "outlinewidth": 0,
             "ticks": ""
            },
            "colorscale": [
             [
              0,
              "#0d0887"
             ],
             [
              0.1111111111111111,
              "#46039f"
             ],
             [
              0.2222222222222222,
              "#7201a8"
             ],
             [
              0.3333333333333333,
              "#9c179e"
             ],
             [
              0.4444444444444444,
              "#bd3786"
             ],
             [
              0.5555555555555556,
              "#d8576b"
             ],
             [
              0.6666666666666666,
              "#ed7953"
             ],
             [
              0.7777777777777778,
              "#fb9f3a"
             ],
             [
              0.8888888888888888,
              "#fdca26"
             ],
             [
              1,
              "#f0f921"
             ]
            ],
            "type": "heatmap"
           }
          ],
          "heatmapgl": [
           {
            "colorbar": {
             "outlinewidth": 0,
             "ticks": ""
            },
            "colorscale": [
             [
              0,
              "#0d0887"
             ],
             [
              0.1111111111111111,
              "#46039f"
             ],
             [
              0.2222222222222222,
              "#7201a8"
             ],
             [
              0.3333333333333333,
              "#9c179e"
             ],
             [
              0.4444444444444444,
              "#bd3786"
             ],
             [
              0.5555555555555556,
              "#d8576b"
             ],
             [
              0.6666666666666666,
              "#ed7953"
             ],
             [
              0.7777777777777778,
              "#fb9f3a"
             ],
             [
              0.8888888888888888,
              "#fdca26"
             ],
             [
              1,
              "#f0f921"
             ]
            ],
            "type": "heatmapgl"
           }
          ],
          "histogram": [
           {
            "marker": {
             "pattern": {
              "fillmode": "overlay",
              "size": 10,
              "solidity": 0.2
             }
            },
            "type": "histogram"
           }
          ],
          "histogram2d": [
           {
            "colorbar": {
             "outlinewidth": 0,
             "ticks": ""
            },
            "colorscale": [
             [
              0,
              "#0d0887"
             ],
             [
              0.1111111111111111,
              "#46039f"
             ],
             [
              0.2222222222222222,
              "#7201a8"
             ],
             [
              0.3333333333333333,
              "#9c179e"
             ],
             [
              0.4444444444444444,
              "#bd3786"
             ],
             [
              0.5555555555555556,
              "#d8576b"
             ],
             [
              0.6666666666666666,
              "#ed7953"
             ],
             [
              0.7777777777777778,
              "#fb9f3a"
             ],
             [
              0.8888888888888888,
              "#fdca26"
             ],
             [
              1,
              "#f0f921"
             ]
            ],
            "type": "histogram2d"
           }
          ],
          "histogram2dcontour": [
           {
            "colorbar": {
             "outlinewidth": 0,
             "ticks": ""
            },
            "colorscale": [
             [
              0,
              "#0d0887"
             ],
             [
              0.1111111111111111,
              "#46039f"
             ],
             [
              0.2222222222222222,
              "#7201a8"
             ],
             [
              0.3333333333333333,
              "#9c179e"
             ],
             [
              0.4444444444444444,
              "#bd3786"
             ],
             [
              0.5555555555555556,
              "#d8576b"
             ],
             [
              0.6666666666666666,
              "#ed7953"
             ],
             [
              0.7777777777777778,
              "#fb9f3a"
             ],
             [
              0.8888888888888888,
              "#fdca26"
             ],
             [
              1,
              "#f0f921"
             ]
            ],
            "type": "histogram2dcontour"
           }
          ],
          "mesh3d": [
           {
            "colorbar": {
             "outlinewidth": 0,
             "ticks": ""
            },
            "type": "mesh3d"
           }
          ],
          "parcoords": [
           {
            "line": {
             "colorbar": {
              "outlinewidth": 0,
              "ticks": ""
             }
            },
            "type": "parcoords"
           }
          ],
          "pie": [
           {
            "automargin": true,
            "type": "pie"
           }
          ],
          "scatter": [
           {
            "fillpattern": {
             "fillmode": "overlay",
             "size": 10,
             "solidity": 0.2
            },
            "type": "scatter"
           }
          ],
          "scatter3d": [
           {
            "line": {
             "colorbar": {
              "outlinewidth": 0,
              "ticks": ""
             }
            },
            "marker": {
             "colorbar": {
              "outlinewidth": 0,
              "ticks": ""
             }
            },
            "type": "scatter3d"
           }
          ],
          "scattercarpet": [
           {
            "marker": {
             "colorbar": {
              "outlinewidth": 0,
              "ticks": ""
             }
            },
            "type": "scattercarpet"
           }
          ],
          "scattergeo": [
           {
            "marker": {
             "colorbar": {
              "outlinewidth": 0,
              "ticks": ""
             }
            },
            "type": "scattergeo"
           }
          ],
          "scattergl": [
           {
            "marker": {
             "colorbar": {
              "outlinewidth": 0,
              "ticks": ""
             }
            },
            "type": "scattergl"
           }
          ],
          "scattermapbox": [
           {
            "marker": {
             "colorbar": {
              "outlinewidth": 0,
              "ticks": ""
             }
            },
            "type": "scattermapbox"
           }
          ],
          "scatterpolar": [
           {
            "marker": {
             "colorbar": {
              "outlinewidth": 0,
              "ticks": ""
             }
            },
            "type": "scatterpolar"
           }
          ],
          "scatterpolargl": [
           {
            "marker": {
             "colorbar": {
              "outlinewidth": 0,
              "ticks": ""
             }
            },
            "type": "scatterpolargl"
           }
          ],
          "scatterternary": [
           {
            "marker": {
             "colorbar": {
              "outlinewidth": 0,
              "ticks": ""
             }
            },
            "type": "scatterternary"
           }
          ],
          "surface": [
           {
            "colorbar": {
             "outlinewidth": 0,
             "ticks": ""
            },
            "colorscale": [
             [
              0,
              "#0d0887"
             ],
             [
              0.1111111111111111,
              "#46039f"
             ],
             [
              0.2222222222222222,
              "#7201a8"
             ],
             [
              0.3333333333333333,
              "#9c179e"
             ],
             [
              0.4444444444444444,
              "#bd3786"
             ],
             [
              0.5555555555555556,
              "#d8576b"
             ],
             [
              0.6666666666666666,
              "#ed7953"
             ],
             [
              0.7777777777777778,
              "#fb9f3a"
             ],
             [
              0.8888888888888888,
              "#fdca26"
             ],
             [
              1,
              "#f0f921"
             ]
            ],
            "type": "surface"
           }
          ],
          "table": [
           {
            "cells": {
             "fill": {
              "color": "#EBF0F8"
             },
             "line": {
              "color": "white"
             }
            },
            "header": {
             "fill": {
              "color": "#C8D4E3"
             },
             "line": {
              "color": "white"
             }
            },
            "type": "table"
           }
          ]
         },
         "layout": {
          "annotationdefaults": {
           "arrowcolor": "#2a3f5f",
           "arrowhead": 0,
           "arrowwidth": 1
          },
          "autotypenumbers": "strict",
          "coloraxis": {
           "colorbar": {
            "outlinewidth": 0,
            "ticks": ""
           }
          },
          "colorscale": {
           "diverging": [
            [
             0,
             "#8e0152"
            ],
            [
             0.1,
             "#c51b7d"
            ],
            [
             0.2,
             "#de77ae"
            ],
            [
             0.3,
             "#f1b6da"
            ],
            [
             0.4,
             "#fde0ef"
            ],
            [
             0.5,
             "#f7f7f7"
            ],
            [
             0.6,
             "#e6f5d0"
            ],
            [
             0.7,
             "#b8e186"
            ],
            [
             0.8,
             "#7fbc41"
            ],
            [
             0.9,
             "#4d9221"
            ],
            [
             1,
             "#276419"
            ]
           ],
           "sequential": [
            [
             0,
             "#0d0887"
            ],
            [
             0.1111111111111111,
             "#46039f"
            ],
            [
             0.2222222222222222,
             "#7201a8"
            ],
            [
             0.3333333333333333,
             "#9c179e"
            ],
            [
             0.4444444444444444,
             "#bd3786"
            ],
            [
             0.5555555555555556,
             "#d8576b"
            ],
            [
             0.6666666666666666,
             "#ed7953"
            ],
            [
             0.7777777777777778,
             "#fb9f3a"
            ],
            [
             0.8888888888888888,
             "#fdca26"
            ],
            [
             1,
             "#f0f921"
            ]
           ],
           "sequentialminus": [
            [
             0,
             "#0d0887"
            ],
            [
             0.1111111111111111,
             "#46039f"
            ],
            [
             0.2222222222222222,
             "#7201a8"
            ],
            [
             0.3333333333333333,
             "#9c179e"
            ],
            [
             0.4444444444444444,
             "#bd3786"
            ],
            [
             0.5555555555555556,
             "#d8576b"
            ],
            [
             0.6666666666666666,
             "#ed7953"
            ],
            [
             0.7777777777777778,
             "#fb9f3a"
            ],
            [
             0.8888888888888888,
             "#fdca26"
            ],
            [
             1,
             "#f0f921"
            ]
           ]
          },
          "colorway": [
           "#636efa",
           "#EF553B",
           "#00cc96",
           "#ab63fa",
           "#FFA15A",
           "#19d3f3",
           "#FF6692",
           "#B6E880",
           "#FF97FF",
           "#FECB52"
          ],
          "font": {
           "color": "#2a3f5f"
          },
          "geo": {
           "bgcolor": "white",
           "lakecolor": "white",
           "landcolor": "#E5ECF6",
           "showlakes": true,
           "showland": true,
           "subunitcolor": "white"
          },
          "hoverlabel": {
           "align": "left"
          },
          "hovermode": "closest",
          "mapbox": {
           "style": "light"
          },
          "paper_bgcolor": "white",
          "plot_bgcolor": "#E5ECF6",
          "polar": {
           "angularaxis": {
            "gridcolor": "white",
            "linecolor": "white",
            "ticks": ""
           },
           "bgcolor": "#E5ECF6",
           "radialaxis": {
            "gridcolor": "white",
            "linecolor": "white",
            "ticks": ""
           }
          },
          "scene": {
           "xaxis": {
            "backgroundcolor": "#E5ECF6",
            "gridcolor": "white",
            "gridwidth": 2,
            "linecolor": "white",
            "showbackground": true,
            "ticks": "",
            "zerolinecolor": "white"
           },
           "yaxis": {
            "backgroundcolor": "#E5ECF6",
            "gridcolor": "white",
            "gridwidth": 2,
            "linecolor": "white",
            "showbackground": true,
            "ticks": "",
            "zerolinecolor": "white"
           },
           "zaxis": {
            "backgroundcolor": "#E5ECF6",
            "gridcolor": "white",
            "gridwidth": 2,
            "linecolor": "white",
            "showbackground": true,
            "ticks": "",
            "zerolinecolor": "white"
           }
          },
          "shapedefaults": {
           "line": {
            "color": "#2a3f5f"
           }
          },
          "ternary": {
           "aaxis": {
            "gridcolor": "white",
            "linecolor": "white",
            "ticks": ""
           },
           "baxis": {
            "gridcolor": "white",
            "linecolor": "white",
            "ticks": ""
           },
           "bgcolor": "#E5ECF6",
           "caxis": {
            "gridcolor": "white",
            "linecolor": "white",
            "ticks": ""
           }
          },
          "title": {
           "x": 0.05
          },
          "xaxis": {
           "automargin": true,
           "gridcolor": "white",
           "linecolor": "white",
           "ticks": "",
           "title": {
            "standoff": 15
           },
           "zerolinecolor": "white",
           "zerolinewidth": 2
          },
          "yaxis": {
           "automargin": true,
           "gridcolor": "white",
           "linecolor": "white",
           "ticks": "",
           "title": {
            "standoff": 15
           },
           "zerolinecolor": "white",
           "zerolinewidth": 2
          }
         }
        },
        "title": {
         "font": {
          "color": "black"
         },
         "text": "Actual vs. Predicted Values"
        },
        "xaxis": {
         "gridcolor": "lightgrey",
         "gridwidth": 1,
         "linecolor": "black",
         "linewidth": 1,
         "showgrid": true,
         "showline": true,
         "title": {
          "text": "Time Steps"
         },
         "zeroline": true,
         "zerolinecolor": "lightgrey",
         "zerolinewidth": 1
        },
        "yaxis": {
         "gridcolor": "lightgrey",
         "gridwidth": 1,
         "linecolor": "black",
         "linewidth": 1,
         "showgrid": true,
         "showline": true,
         "title": {
          "text": "Values"
         },
         "zeroline": true,
         "zerolinecolor": "lightgrey",
         "zerolinewidth": 1
        }
       }
      }
     },
     "metadata": {},
     "output_type": "display_data"
    }
   ],
   "source": [
    "pred_test = model.predict(X_test)\n",
    "\n",
    "# Create a plot\n",
    "fig = go.Figure()\n",
    "\n",
    "# Add traces for actual values (ground truth)\n",
    "for i in range(12):\n",
    "    fig.add_trace(go.Scatter(x=np.arange(len(Y_test[i])), y=scaler.inverse_transform(Y_test[i].reshape(-1, 1)).flatten(),\n",
    "                             mode='lines',\n",
    "                             name=f'Sample {i + 1} - Actual',\n",
    "                             opacity=0.8,\n",
    "                             line=dict(width=1)\n",
    "                            ))\n",
    "\n",
    "# Add traces for predicted values\n",
    "for i in range(12):\n",
    "    fig.add_trace(go.Scatter(x=np.arange(len(pred_test[i])), y=scaler.inverse_transform(pred_test[i].reshape(-1, 1)).flatten(),\n",
    "                             mode='lines',\n",
    "                             name=f'Sample {i + 1} - Predicted',\n",
    "                             opacity=1,\n",
    "                             line=dict(width=2, dash='dot')\n",
    "                            ))\n",
    "\n",
    "# Customize the plot appearance\n",
    "fig.update_layout(\n",
    "    plot_bgcolor='white',\n",
    "    xaxis=dict(\n",
    "        showgrid=True, gridwidth=1, gridcolor='lightgrey',\n",
    "        zeroline=True, zerolinewidth=1, zerolinecolor='lightgrey',\n",
    "        showline=True, linewidth=1, linecolor='black',\n",
    "        title='Time Steps'\n",
    "    ),\n",
    "    yaxis=dict(\n",
    "        showgrid=True, gridwidth=1, gridcolor='lightgrey',\n",
    "        zeroline=True, zerolinewidth=1, zerolinecolor='lightgrey',\n",
    "        showline=True, linewidth=1, linecolor='black',\n",
    "        title='Values'\n",
    "    ),\n",
    "    title=dict(text=\"Actual vs. Predicted Values\", font=dict(color='black'))\n",
    ")\n",
    "\n",
    "# Show the plot\n",
    "fig.show()"
   ]
  },
  {
   "cell_type": "markdown",
   "metadata": {},
   "source": [
    "<h1>Splitting the data</h1>"
   ]
  },
  {
   "cell_type": "markdown",
   "metadata": {},
   "source": [
    "Splits the data into a training/evaluation/test distribution of 70/20/10. The random_state parameter is a seed for the random split, that allows reproducability."
   ]
  },
  {
   "cell_type": "code",
   "execution_count": null,
   "metadata": {},
   "outputs": [],
   "source": [
    "num_kinematic_features = 18\n",
    "num_emg_features = 7\n",
    "\n",
    "# Extract X_kinematic and y_kinematic\n",
    "X_kinematic = kinematic_data_normalized[:, :, :num_kinematic_features]  # Adjust num_kinematic_features\n",
    "y_kinematic = kinematic_data_normalized[:, -1, :]  # Assuming the last time step represents the target\n",
    "\n",
    "# Extract X_emg and y_emg\n",
    "X_emg = emg_data_normalized[:, :, :num_emg_features]  # Adjust num_emg_features\n",
    "y_emg = emg_data_normalized[:, -1, :]  # Assuming the last time step represents the target\n",
    "\n",
    "# Now you have X_kinematic, y_kinematic, X_emg, and y_emg for further processing\n",
    "\n",
    "# Split the data\n",
    "X_kinematic_train, X_kinematic_val, y_kinematic_train, y_kinematic_val = train_test_split(\n",
    "    X_kinematic, y_kinematic, test_size=0.3, random_state=42\n",
    ")\n",
    "X_emg_train, X_emg_val, y_emg_train, y_emg_val = train_test_split(\n",
    "    X_emg, y_emg, test_size=0.3, random_state=42\n",
    ")\n",
    "\n",
    "# Ensure shapes match the model input requirements\n",
    "# Add additional processing steps if necessary\n",
    "\n",
    "# Print the shapes for verification\n",
    "# print(\"Shapes of Kinematic Data Sets:\")\n",
    "# print(\"Train:\", X_train_kinematic.shape, y_train_kinematic.shape)\n",
    "# print(\"Validation:\", X_val_kinematic.shape, y_val_kinematic.shape)\n",
    "# print(\"Test:\", X_test_kinematic.shape, y_test_kinematic.shape)\n",
    "\n",
    "# print(\"\\nShapes of EMG Data Sets:\")\n",
    "# print(\"Train:\", X_train_emg.shape, y_train_emg.shape)\n",
    "# print(\"Validation:\", X_val_emg.shape, y_val_emg.shape)\n",
    "# print(\"Test:\", X_test_emg.shape, y_test_emg.shape)"
   ]
  },
  {
   "cell_type": "markdown",
   "metadata": {},
   "source": [
    "<h1>Model architecture</h1>"
   ]
  },
  {
   "cell_type": "markdown",
   "metadata": {},
   "source": [
    "**Flexibility:** Using a Seq2Seq (sequence to sequence) architecture with GRU as RNN's, since the length of the EIM signals might vary, and Seq2Seq can handle this. Normal GRU would require to truncate the samples to the same lengths. The Seq2Seq model provides more flexibility in capturing complex relationships between variable-length sequences, making it potentially more suitable for tasks where the alignment between input and output elements is not fixed.\n",
    "\n",
    "**Attention mechanism:** The attention mechanism in the Seq2Seq model allows the network to focus on different parts of the input sequence when making predictions for each element in the output sequence. This is beneficial when the relationship between EMG signals and joint angles might not be straightforward and might require the model to attend to different segments of the input sequence.\n",
    "\n",
    "Splits the EMG and kinematic data into two sepparate branches to train on. The idea is to create a model that can learn the relationship between EMG data and joint angles by processing both types of data during training.\n",
    "\n",
    "During the training phase, the model learns to capture patterns and relationships between the provided EMG signals and the corresponding joint angles."
   ]
  },
  {
   "cell_type": "code",
   "execution_count": null,
   "metadata": {},
   "outputs": [],
   "source": [
    "from tensorflow.keras.models import Model\n",
    "from tensorflow.keras.layers import Masking, RepeatVector, Layer, Reshape\n",
    "import tensorflow.keras.backend as K\n",
    "\n",
    "# Assuming num_emg_features, num_kinematic_features, and num_joint_angle_features are defined\n",
    "num_emg_features = 7\n",
    "num_kinematic_features = 18\n",
    "\n",
    "# Total number of features\n",
    "num_input_features = num_emg_features + num_kinematic_features\n",
    "\n",
    "# Define the input sequence shape\n",
    "input_seq_shape = (None, num_input_features)  # Variable-length input sequence\n",
    "\n",
    "# Define the GRU units\n",
    "gru_units = 32\n",
    "\n",
    "# EMG data branch\n",
    "encoder_inputs_emg = Input(shape=(None, num_emg_features), name='Input-Layer-EMG')\n",
    "encoder_emg = GRU(gru_units, return_sequences=True, name='Hidden-GRU-Encoder-Layer-EMG')(encoder_inputs_emg)\n",
    "\n",
    "# Kinematic data branch\n",
    "encoder_inputs_kinematic = Input(shape=(None, num_kinematic_features), name='Input-Layer-Kinematic')\n",
    "encoder_kinematic = GRU(gru_units, return_sequences=True, name='Hidden-GRU-Encoder-Layer-Kinematic')(encoder_inputs_kinematic)\n",
    "\n",
    "# Concatenate EMG and kinematic encodings\n",
    "encoder_combined = concatenate([encoder_emg, encoder_kinematic], axis=-1)\n",
    "\n",
    "# Attention Mechanism\n",
    "attention = Dot(axes=[1, 1], name='Attention-Layer')([encoder_combined, encoder_combined])\n",
    "attention = Activation('softmax', name='Attention-Activation')(attention)\n",
    "\n",
    "# Apply attention weights to encoder outputs\n",
    "context = Dot(axes=[1, 2], name='Context-Layer')([attention, encoder_combined])\n",
    "\n",
    "# Decoder\n",
    "decoder_inputs = Input(shape=(None, num_kinematic_features), name='Decoder-Input-Layer')\n",
    "decoder_gru = GRU(gru_units, return_sequences=True, name='Hidden-GRU-Decoder-Layer')(decoder_inputs)\n",
    "\n",
    "# Flatten context along with masking\n",
    "context_flattened = Flatten()(Masking()(context))\n",
    "\n",
    "# Custom layer to repeat the context along the time axis\n",
    "class RepeatContextLayer(Layer):\n",
    "    def __init__(self, **kwargs):\n",
    "        super(RepeatContextLayer, self).__init__(**kwargs)\n",
    "\n",
    "    def call(self, inputs, **kwargs):\n",
    "        return K.expand_dims(inputs, axis=1)\n",
    "\n",
    "    def compute_output_shape(self, input_shape):\n",
    "        return (input_shape[0], 1, input_shape[1])\n",
    "\n",
    "context_expanded = RepeatContextLayer(name='Repeat-Context')(context_flattened)\n",
    "\n",
    "# Concatenate expanded context and decoder GRU output\n",
    "decoder_combined = Concatenate(axis=-1, name='Concatenate-Layer')([context_expanded, decoder_gru])\n",
    "\n",
    "# Flatten the decoder_combined while maintaining the sequence length\n",
    "decoder_flattened = Flatten(name='Flatten-Layer')(decoder_combined)\n",
    "\n",
    "print('Decoder shape before reshaping: ', decoder_flattened.shape)\n",
    "# Reshape to have a single dimension in the output\n",
    "decoder_output = Reshape((-1, 1), name='Reshape-Layer')(decoder_flattened)\n",
    "print('Flatten-Layer shape: ', decoder_output.shape)\n",
    "\n",
    "# Output layer\n",
    "outputs = TimeDistributed(Dense(1, activation='linear'), name='Output-Layer')(decoder_output)\n",
    "\n",
    "\n",
    "# Create the model\n",
    "model = Model(inputs=[encoder_inputs_emg, encoder_inputs_kinematic, decoder_inputs], outputs=outputs)\n",
    "model.compile(optimizer='adam', loss='mean_squared_error')\n",
    "\n",
    "# Print model summary for review\n",
    "model.summary()\n"
   ]
  },
  {
   "cell_type": "code",
   "execution_count": null,
   "metadata": {},
   "outputs": [],
   "source": [
    "from tensorflow.keras.callbacks import EarlyStopping\n",
    "\n",
    "# model.fit(X_train_kinematic, y_train_kinematic, epochs=10, batch_size=32, validation_data=(X_test_kinematic, y_test_kinematic))\n",
    "\n",
    "# Use EarlyStopping to stop training when the validation loss stops improving\n",
    "early_stopping = EarlyStopping(monitor='val_loss', patience=3, restore_best_weights=True)\n",
    "\n",
    "# Train the model on both EMG and kinematic data\n",
    "# Set the number of epochs and batch size\n",
    "epochs = 10\n",
    "batch_size = 32\n",
    "\n",
    "# Training the model\n",
    "model.fit(\n",
    "    [X_train_emg, X_train_kinematic],  # Only EMG and kinematic inputs during training\n",
    "    [y_train_kinematic, y_train_kinematic[:, 1:]],  # y_train_kinematic[:, 1:] is the shifted version for training the decoder,\n",
    "    epochs=epochs,\n",
    "    batch_size=batch_size,\n",
    "    validation_data=([X_val_emg, X_val_kinematic], y_val_kinematic),  # Adjust for validation data\n",
    "    callbacks=[early_stopping]  # If you are using EarlyStopping\n",
    ")\n",
    "\n",
    "# Evaluate the model on the test set\n",
    "test_loss = model.evaluate([X_test_emg, X_test_kinematic], y_test_kinematic)\n",
    "print(f'Test Loss: {test_loss}')"
   ]
  },
  {
   "cell_type": "markdown",
   "metadata": {},
   "source": [
    "Three months are missing from the dataset, so average from preceding and subsequent months are calculated as placeholder."
   ]
  },
  {
   "cell_type": "code",
   "execution_count": null,
   "metadata": {},
   "outputs": [],
   "source": [
    "\n",
    "# Add missing months 2011-04, 2011-04, 2011-04 and impute data\n",
    "df2_pivot['2011-04']=(df2_pivot['2011-03']+df2_pivot['2011-05'])/2\n",
    "df2_pivot['2012-12']=(df2_pivot['2012-11']+df2_pivot['2013-01'])/2\n",
    "df2_pivot['2013-02']=(df2_pivot['2013-01']+df2_pivot['2013-03'])/2\n",
    "\n",
    "# Sort columns so Year-Months are in the correct order\n",
    "df2_pivot=df2_pivot.reindex(sorted(df2_pivot.columns), axis=1)"
   ]
  },
  {
   "cell_type": "markdown",
   "metadata": {},
   "source": [
    "Plots the data"
   ]
  },
  {
   "cell_type": "code",
   "execution_count": null,
   "metadata": {},
   "outputs": [],
   "source": [
    "# %pip install nbformat\n",
    "\n",
    "# Plot average monthly temperature derived from daily medians for each location\n",
    "fig = go.Figure()\n",
    "for location in df2_pivot.index:\n",
    "    fig.add_trace(go.Scatter(x=df2_pivot.loc[location, :].index,\n",
    "                             y=df2_pivot.loc[location, :].values,\n",
    "                             mode='lines',\n",
    "                             name=location,\n",
    "                             opacity=0.8,\n",
    "                             line=dict(width=1)\n",
    "                            ))\n",
    "\n",
    "# Change chart background color\n",
    "fig.update_layout(dict(plot_bgcolor = 'white'), showlegend=True)\n",
    "\n",
    "# Update axes lines\n",
    "fig.update_xaxes(showgrid=True, gridwidth=1, gridcolor='lightgrey',\n",
    "                 zeroline=True, zerolinewidth=1, zerolinecolor='lightgrey',\n",
    "                 showline=True, linewidth=1, linecolor='black',\n",
    "                 title='Date'\n",
    "                )\n",
    "\n",
    "fig.update_yaxes(showgrid=True, gridwidth=1, gridcolor='lightgrey',\n",
    "                 zeroline=True, zerolinewidth=1, zerolinecolor='lightgrey',\n",
    "                 showline=True, linewidth=1, linecolor='black',\n",
    "                 title='Degrees Celsius'\n",
    "                )\n",
    "\n",
    "# Set figure title\n",
    "fig.update_layout(title=dict(text=\"Average Monthly Temperatures\", font=dict(color='black')))\n",
    "\n",
    "fig.show()"
   ]
  },
  {
   "cell_type": "markdown",
   "metadata": {},
   "source": [
    "Note how the mean temperature, as well as variation, differs between locations. We can either train a location-specific model for better precision or a generic model to predict temperatures for every area.\n",
    "\n",
    "In this example, I will create a generic model trained on all locations.\n",
    "\n",
    "Training and evaluating GRU model Here are a few things to highlight before we start.\n",
    "\n",
    "We will use sequences of 18 months to predict the average temperatures for the next 18 months. You can adjust that to your liking but beware that there will not be enough data for sequences beyond 23 months in length.\n",
    "\n",
    "We will split the data into two separate dataframes — one for training and the other for validation (out of time validation).\n",
    "\n",
    "Since we are creating a many-to-many prediction model, we need to use a slightly more complex encoder-decoder configuration. Both encoder and decoder are hidden GRU layers, with information passed from one to another via a repeat vector layer.\n",
    "\n",
    "A repeat vector is necessary when we want to have sequences of different lengths, e.g., a sequence of 18 months to predict the next 12 months. It ensures that we provide the right shape for a decoder layer. However, if your input and output sequences are of the same length as in my example, then you can also choose to set return_sequences=True in the encoder layer and remove the repeat vector. Note that we added a Bidirectional wrapper to GRU layers. It allows us to train the model in both directions, which sometimes produces better results. However, its use is optional.\n",
    "\n",
    "Also, we need to use a Time Distributed wrapper in the output layer to predict outputs for each timestep individually. Finally, I have used MinMaxScaling in this example because it has produced better results than the unscaled version. You can find both scaled and unscaled setups within Jupyter Notebooks in my GitHub repository (link available at the end of the article).\n",
    "\n",
    "First, let’s define a helper function to reshape the data to a 3D array required by GRU."
   ]
  },
  {
   "cell_type": "code",
   "execution_count": null,
   "metadata": {},
   "outputs": [],
   "source": [
    "def shaping(datain, timestep, scaler):\n",
    "\n",
    "    # Loop through each location\n",
    "    for location in datain.index:\n",
    "        datatmp = datain[datain.index==location].copy()\n",
    "\n",
    "        # Convert input dataframe to array and flatten\n",
    "        arr=datatmp.to_numpy().flatten()\n",
    "\n",
    "        # Scale using transform (using previously fitted scaler)\n",
    "        arr_scaled=scaler.transform(arr.reshape(-1, 1)).flatten()\n",
    "\n",
    "        cnt=0\n",
    "        for mth in range(0, len(datatmp.columns)-(2*timestep)+1): # Define range\n",
    "            cnt=cnt+1 # Gives us the number of samples. Later used to reshape the data\n",
    "            X_start=mth # Start month for inputs of each sample\n",
    "            X_end=mth+timestep # End month for inputs of each sample\n",
    "            Y_start=mth+timestep # Start month for targets of each sample. Note, start is inclusive and end is exclusive, that's why X_end and Y_start is the same number\n",
    "            Y_end=mth+2*timestep # End month for targets of each sample.\n",
    "\n",
    "            # Assemble input and target arrays containing all samples\n",
    "            if mth==0:\n",
    "                X_comb=arr_scaled[X_start:X_end]\n",
    "                Y_comb=arr_scaled[Y_start:Y_end]\n",
    "            else:\n",
    "                X_comb=np.append(X_comb, arr_scaled[X_start:X_end])\n",
    "                Y_comb=np.append(Y_comb, arr_scaled[Y_start:Y_end])\n",
    "\n",
    "        # Reshape input and target arrays\n",
    "        X_loc=np.reshape(X_comb, (cnt, timestep, 1))\n",
    "        Y_loc=np.reshape(Y_comb, (cnt, timestep, 1))\n",
    "\n",
    "        # Append an array for each location to the master array\n",
    "        if location==datain.index[0]:\n",
    "            X_out=X_loc\n",
    "            Y_out=Y_loc\n",
    "        else:\n",
    "            X_out=np.concatenate((X_out, X_loc), axis=0)\n",
    "            Y_out=np.concatenate((Y_out, Y_loc), axis=0)\n",
    "\n",
    "    return X_out, Y_out"
   ]
  },
  {
   "cell_type": "markdown",
   "metadata": {},
   "source": [
    "Next, we train GRU neural network over 50 epochs and display the model summary with evaluation metrics. You can follow my comments within the code to understand each step."
   ]
  },
  {
   "cell_type": "code",
   "execution_count": null,
   "metadata": {},
   "outputs": [],
   "source": [
    "##### Step 1 - Specify parameters\n",
    "timestep=18\n",
    "scaler = MinMaxScaler(feature_range=(-1, 1))"
   ]
  },
  {
   "cell_type": "code",
   "execution_count": null,
   "metadata": {},
   "outputs": [],
   "source": [
    "##### Step 2 - Prepare data\n",
    "\n",
    "# Split data into train and test dataframes\n",
    "df_train=df2_pivot.iloc[:, 0:-2*timestep].copy()\n",
    "df_test=df2_pivot.iloc[:, -2*timestep:].copy()\n",
    "\n",
    "# Use fit to train the scaler on the training data only, actual scaling will be done inside reshaping function\n",
    "scaler.fit(df_train.to_numpy().reshape(-1, 1))\n",
    "\n",
    "# Use previously defined shaping function to reshape the data for GRU\n",
    "X_train, Y_train = shaping(datain=df_train, timestep=timestep, scaler=scaler)\n",
    "X_test, Y_test = shaping(datain=df_test, timestep=timestep, scaler=scaler)"
   ]
  },
  {
   "cell_type": "code",
   "execution_count": null,
   "metadata": {},
   "outputs": [],
   "source": [
    "##### Step 3 - Specify the structure of a Neural Network\n",
    "model = Sequential(name=\"GRU-Model\") # Model\n",
    "model.add(Input(shape=(X_train.shape[1],X_train.shape[2]), name='Input-Layer')) # Input Layer - need to speicfy the shape of inputs\n",
    "model.add(Bidirectional(GRU(units=32, activation='tanh', recurrent_activation='sigmoid', stateful=False), name='Hidden-GRU-Encoder-Layer')) # Encoder Layer\n",
    "model.add(RepeatVector(X_train.shape[1], name='Repeat-Vector-Layer')) # Repeat Vector\n",
    "model.add(Bidirectional(GRU(units=32, activation='tanh', recurrent_activation='sigmoid', stateful=False, return_sequences=True), name='Hidden-GRU-Decoder-Layer')) # Decoder Layer\n",
    "model.add(TimeDistributed(Dense(units=1, activation='linear'), name='Output-Layer')) # Output Layer, Linear(x) = x"
   ]
  },
  {
   "cell_type": "code",
   "execution_count": null,
   "metadata": {},
   "outputs": [],
   "source": [
    "##### Step 4 - Compile the model\n",
    "model.compile(optimizer='adam', # default='rmsprop', an algorithm to be used in backpropagation\n",
    "              loss='mean_squared_error', # Loss function to be optimized. A string (name of loss function), or a tf.keras.losses.Loss instance.\n",
    "              metrics=['MeanSquaredError', 'MeanAbsoluteError'], # List of metrics to be evaluated by the model during training and testing. Each of this can be a string (name of a built-in function), function or a tf.keras.metrics.Metric instance.\n",
    "              loss_weights=None, # default=None, Optional list or dictionary specifying scalar coefficients (Python floats) to weight the loss contributions of different model outputs.\n",
    "              weighted_metrics=None, # default=None, List of metrics to be evaluated and weighted by sample_weight or class_weight during training and testing.\n",
    "              run_eagerly=None, # Defaults to False. If True, this Model's logic will not be wrapped in a tf.function. Recommended to leave this as None unless your Model cannot be run inside a tf.function.\n",
    "              steps_per_execution=None # Defaults to 1. The number of batches to run during each tf.function call. Running multiple batches inside a single tf.function call can greatly improve performance on TPUs or small models with a large Python overhead.\n",
    "             )"
   ]
  },
  {
   "cell_type": "code",
   "execution_count": null,
   "metadata": {},
   "outputs": [],
   "source": [
    "##### Step 5 - Fit the model on the dataset\n",
    "history = model.fit(X_train, # input data\n",
    "                    Y_train, # target data\n",
    "                    batch_size=1, # Number of samples per gradient update. If unspecified, batch_size will default to 32.\n",
    "                    epochs=50, # default=1, Number of epochs to train the model. An epoch is an iteration over the entire x and y data provided\n",
    "                    verbose=1, # default='auto', ('auto', 0, 1, or 2). Verbosity mode. 0 = silent, 1 = progress bar, 2 = one line per epoch. 'auto' defaults to 1 for most cases, but 2 when used with ParameterServerStrategy.\n",
    "                    callbacks=None, # default=None, list of callbacks to apply during training. See tf.keras.callbacks\n",
    "                    validation_split=0.2, # default=0.0, Fraction of the training data to be used as validation data. The model will set apart this fraction of the training data, will not train on it, and will evaluate the loss and any model metrics on this data at the end of each epoch.\n",
    "                    #validation_data=(X_test, y_test), # default=None, Data on which to evaluate the loss and any model metrics at the end of each epoch.\n",
    "                    shuffle=True, # default=True, Boolean (whether to shuffle the training data before each epoch) or str (for 'batch').\n",
    "                    class_weight=None, # default=None, Optional dictionary mapping class indices (integers) to a weight (float) value, used for weighting the loss function (during training only). This can be useful to tell the model to \"pay more attention\" to samples from an under-represented class.\n",
    "                    sample_weight=None, # default=None, Optional Numpy array of weights for the training samples, used for weighting the loss function (during training only).\n",
    "                    initial_epoch=0, # Integer, default=0, Epoch at which to start training (useful for resuming a previous training run).\n",
    "                    steps_per_epoch=None, # Integer or None, default=None, Total number of steps (batches of samples) before declaring one epoch finished and starting the next epoch. When training with input tensors such as TensorFlow data tensors, the default None is equal to the number of samples in your dataset divided by the batch size, or 1 if that cannot be determined.\n",
    "                    validation_steps=None, # Only relevant if validation_data is provided and is a tf.data dataset. Total number of steps (batches of samples) to draw before stopping when performing validation at the end of every epoch.\n",
    "                    validation_batch_size=None, # Integer or None, default=None, Number of samples per validation batch. If unspecified, will default to batch_size.\n",
    "                    validation_freq=10, # default=1, Only relevant if validation data is provided. If an integer, specifies how many training epochs to run before a new validation run is performed, e.g. validation_freq=2 runs validation every 2 epochs.\n",
    "                    max_queue_size=10, # default=10, Used for generator or keras.utils.Sequence input only. Maximum size for the generator queue. If unspecified, max_queue_size will default to 10.\n",
    "                    workers=1, # default=1, Used for generator or keras.utils.Sequence input only. Maximum number of processes to spin up when using process-based threading. If unspecified, workers will default to 1.\n",
    "                    use_multiprocessing=True, # default=False, Used for generator or keras.utils.Sequence input only. If True, use process-based threading. If unspecified, use_multiprocessing will default to False.\n",
    "                   )"
   ]
  },
  {
   "cell_type": "code",
   "execution_count": null,
   "metadata": {},
   "outputs": [],
   "source": [
    "##### Step 6 - Use model to make predictions\n",
    "# Predict results on training data\n",
    "#pred_train = model.predict(X_train)\n",
    "# Predict results on test data\n",
    "pred_test = model.predict(X_test)\n",
    "\n",
    "\n",
    "##### Step 7 - Print Performance Summary\n",
    "print(\"\")\n",
    "print('-------------------- Model Summary --------------------')\n",
    "model.summary() # print model summary\n",
    "print(\"\")\n",
    "print('-------------------- Weights and Biases --------------------')\n",
    "print(\"Too many parameters to print but you can use the code provided if needed\")\n",
    "print(\"\")\n",
    "#for layer in model.layers:\n",
    "#    print(layer.name)\n",
    "#    for item in layer.get_weights():\n",
    "#        print(\"  \", item)\n",
    "#print(\"\")\n",
    "\n",
    "# Print the last value in the evaluation metrics contained within history file\n",
    "print('-------------------- Evaluation on Training Data --------------------')\n",
    "for item in history.history:\n",
    "    print(\"Final\", item, \":\", history.history[item][-1])\n",
    "print(\"\")\n",
    "\n",
    "# Evaluate the model on the test data using \"evaluate\"\n",
    "print('-------------------- Evaluation on Test Data --------------------')\n",
    "results = model.evaluate(X_test, Y_test)\n",
    "print(\"\")"
   ]
  },
  {
   "cell_type": "markdown",
   "metadata": {},
   "source": [
    "Now, let’s regenerate predictions for the 5 locations we picked earlier and plot the results on a chart to compare actual and predicted values"
   ]
  },
  {
   "cell_type": "code",
   "execution_count": null,
   "metadata": {},
   "outputs": [],
   "source": [
    "# Select locations to predict temperatures for\n",
    "location=['Cairns', 'Canberra', 'Darwin', 'GoldCoast', 'MountGinini']\n",
    "dfloc_test = df_test[df_test.index.isin(location)].copy()\n",
    "\n",
    "# Reshape test data\n",
    "X_test, Y_test = shaping(datain=dfloc_test, timestep=timestep, scaler=scaler)\n",
    "\n",
    "# Predict results on test data\n",
    "pred_test = model.predict(X_test)"
   ]
  },
  {
   "cell_type": "markdown",
   "metadata": {},
   "source": [
    "Plot results"
   ]
  },
  {
   "cell_type": "code",
   "execution_count": null,
   "metadata": {},
   "outputs": [],
   "source": [
    "# Plot average monthly temperatures (actual and predicted) for test (out of time) data\n",
    "fig = go.Figure()\n",
    "\n",
    "# Trace for actual temperatures\n",
    "for location in dfloc_test.index:\n",
    "    fig.add_trace(go.Scatter(x=dfloc_test.loc[location, :].index,\n",
    "                             y=dfloc_test.loc[location, :].values,\n",
    "                             mode='lines',\n",
    "                             name=location,\n",
    "                             opacity=0.8,\n",
    "                             line=dict(width=1)\n",
    "                            ))\n",
    "\n",
    "# Trace for predicted temperatures\n",
    "for i in range(0,pred_test.shape[0]):\n",
    "    fig.add_trace(go.Scatter(x=np.array(dfloc_test.columns[-timestep:]),\n",
    "                             # Need to inverse transform the predictions before plotting\n",
    "                             y=scaler.inverse_transform(pred_test[i].reshape(-1,1)).flatten(),\n",
    "                             mode='lines',\n",
    "                             name=dfloc_test.index[i]+' Prediction',\n",
    "                             opacity=1,\n",
    "                             line=dict(width=2, dash='dot')\n",
    "                            ))\n",
    "\n",
    "# Change chart background color\n",
    "fig.update_layout(dict(plot_bgcolor = 'white'))\n",
    "\n",
    "# Update axes lines\n",
    "fig.update_xaxes(showgrid=True, gridwidth=1, gridcolor='lightgrey',\n",
    "                 zeroline=True, zerolinewidth=1, zerolinecolor='lightgrey',\n",
    "                 showline=True, linewidth=1, linecolor='black',\n",
    "                 title='Year-Month'\n",
    "                )\n",
    "\n",
    "fig.update_yaxes(showgrid=True, gridwidth=1, gridcolor='lightgrey',\n",
    "                 zeroline=True, zerolinewidth=1, zerolinecolor='lightgrey',\n",
    "                 showline=True, linewidth=1, linecolor='black',\n",
    "                 title='Degrees Celsius'\n",
    "                )\n",
    "\n",
    "# Set figure title\n",
    "fig.update_layout(title=dict(text=\"Average Monthly Temperatures\", font=dict(color='black')))\n",
    "fig.show()"
   ]
  }
 ],
 "metadata": {
  "kernelspec": {
   "display_name": ".venv",
   "language": "python",
   "name": "python3"
  },
  "language_info": {
   "codemirror_mode": {
    "name": "ipython",
    "version": 3
   },
   "file_extension": ".py",
   "mimetype": "text/x-python",
   "name": "python",
   "nbconvert_exporter": "python",
   "pygments_lexer": "ipython3",
   "version": "3.11.6"
  }
 },
 "nbformat": 4,
 "nbformat_minor": 2
}
